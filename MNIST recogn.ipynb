{
 "cells": [
  {
   "cell_type": "markdown",
   "metadata": {},
   "source": [
    "# Tackle the MNIST data set and select best model for digit recognition \n",
    " \n",
    "\n",
    "Kaggle final position : 1581 with KNN model and 1435 with SVC\n",
    "\n",
    "\n",
    "## A. Run Binary classifier and illustrate several models with ROC, Precision-Recall\n",
    "\n",
    "## B. We want to build a pipeline in order to transform the data, scaling the data and do feature ingineering\n",
    "\n",
    "## C. Will run the prediction for the test set from Kaggle competition\n",
    "\n",
    "## D. Let's try with SVM and Gaussian / Polynomial Kernel\n",
    "\n",
    "## E. Will RE-run the prediction for the test set from Kaggle competition, using SVM instead of KNN\n",
    "\n",
    "\n",
    " Sources:\n",
    "\n",
    "  - \"Hands on machine learning with scikit learn and TensorFlow\", Aurelien Geron\n",
    "    \n",
    "    \n",
    "#### Introduction :\n",
    "\n",
    "This Notebook will concentrate on the functions available in Scikit learn only. We won't try to use Deep Learning methods as it can be to challenging in terms of speed for our machine.\n",
    "\n",
    "Our objective is to climb the ladders in the Kaggle competition, as we relaized that we are only in the 1581 position  by using KNN model, with prediction of about 97.5%. In this Notebook, we are motivated from the Machine Learning Course of Andrew Ng, as we know that SVM is performing as well as Neural Network for hand written digit recognition, so we should be able to get accuracy at around 98-99% if we manage to find the correct parameters for the SVM model.\n",
    "\n",
    "Sections A, B focus on preliminary analysis of 2 class binary classification models, and put in place a pipeline to pre-process the data. \n",
    "Section C will use the best model for recognizing 0 to 9 digits and run the test dataset of the Kaggle competition.\n",
    "Section D and E tries to improve accuracy score by using Support Vector Classifier, and tries to give intuition on how to chose Kernels and Tuning parameters.\n",
    "\n",
    "We faced some problems in computing time when tuning hyper-parameters. We found the solution in Aurelion Geron Notebooks, by doing 1st tuning with smaller dataset with RandomSearchCV. Then we can have a better idea where are the best parameters ranges. After we can fined tune by looking in smaller range with the entire dataset, and find the final and best parameters. \n",
    "\n"
   ]
  },
  {
   "cell_type": "code",
   "execution_count": 1,
   "metadata": {},
   "outputs": [],
   "source": [
    "import pandas as pd\n",
    "from pandas import Series, DataFrame\n",
    "import numpy as np\n",
    "\n",
    "import seaborn as sns\n",
    "import cmath\n",
    "\n",
    "import matplotlib\n",
    "import matplotlib.pylab as pylab\n",
    "import matplotlib.pyplot as plt\n",
    "%matplotlib inline\n",
    "\n",
    "import datetime\n",
    "from __future__ import division\n",
    "import matplotlib.dates as mdates\n",
    "import matplotlib.cbook as cbook\n",
    "\n",
    "plt.rcParams['axes.labelsize'] = 14\n",
    "plt.rcParams['xtick.labelsize'] = 12\n",
    "plt.rcParams['ytick.labelsize'] = 12\n",
    "\n",
    "import warnings\n",
    "#warnings.filterwarnings(action=\"ignore\", module=\"scipy\", message=\"^internal gelsd\")\n",
    "warnings.filterwarnings('ignore')"
   ]
  },
  {
   "cell_type": "code",
   "execution_count": 2,
   "metadata": {},
   "outputs": [],
   "source": [
    "# Retreive data from csv file\n",
    "train = pd.read_csv('train.csv',sep=',')"
   ]
  },
  {
   "cell_type": "code",
   "execution_count": 3,
   "metadata": {},
   "outputs": [
    {
     "data": {
      "text/plain": [
       "(42000, 784)"
      ]
     },
     "execution_count": 3,
     "metadata": {},
     "output_type": "execute_result"
    }
   ],
   "source": [
    "# define Training set and target\n",
    "X , y = train.drop('label',axis=1) , train['label']\n",
    "# Let's check the size of our training set\n",
    "X.shape"
   ]
  },
  {
   "cell_type": "code",
   "execution_count": 4,
   "metadata": {
    "scrolled": true
   },
   "outputs": [],
   "source": [
    "# We will split half of the data for the training and half for the test\n",
    "X_train, X_test, y_train, y_test = X[:35000] , X[35000:], y[:35000], y[35000:]\n",
    "\n",
    "# Shuffle data\n",
    "shuffle_index = np.random.permutation(35000)\n",
    "X_train, y_train = X_train.values[shuffle_index], y_train[shuffle_index]"
   ]
  },
  {
   "cell_type": "markdown",
   "metadata": {},
   "source": [
    "## A. Run Binary classifier and illustrate several models with ROC, Precision-Recall"
   ]
  },
  {
   "cell_type": "code",
   "execution_count": 5,
   "metadata": {
    "scrolled": true
   },
   "outputs": [],
   "source": [
    "# Let's try a model on only 1 number , let's use 6\n",
    "y_train_6 = (y_train == 6)\n",
    "y_test_6 = (y_test == 6)"
   ]
  },
  {
   "cell_type": "code",
   "execution_count": 6,
   "metadata": {},
   "outputs": [
    {
     "data": {
      "text/plain": [
       "array([False])"
      ]
     },
     "execution_count": 6,
     "metadata": {},
     "output_type": "execute_result"
    }
   ],
   "source": [
    "# Let's try with Stochastic Gradient Classifier\n",
    "from sklearn.linear_model import SGDClassifier\n",
    "sgd_clf = SGDClassifier(random_state = 42)\n",
    "sgd_clf.fit(X_train,y_train_6)\n",
    "\n",
    "some_digit = X.values[2000]\n",
    "\n",
    "sgd_clf.predict([some_digit])"
   ]
  },
  {
   "cell_type": "code",
   "execution_count": 7,
   "metadata": {},
   "outputs": [
    {
     "data": {
      "image/png": "[encoded data removed]",
      "text/plain": [
       "<matplotlib.figure.Figure at 0x1828a9230f0>"
      ]
     },
     "metadata": {},
     "output_type": "display_data"
    }
   ],
   "source": [
    "plt.imshow(some_digit.reshape(28,28),cmap = matplotlib.cm.binary, interpolation = 'nearest')\n",
    "#plt.axis(\"off\")\n",
    "plt.show()"
   ]
  },
  {
   "cell_type": "code",
   "execution_count": 8,
   "metadata": {},
   "outputs": [
    {
     "data": {
      "text/plain": [
       "<bound method BaseEstimator.get_params of SGDClassifier(alpha=0.0001, average=False, class_weight=None, epsilon=0.1,\n",
       "       eta0=0.0, fit_intercept=True, l1_ratio=0.15,\n",
       "       learning_rate='optimal', loss='hinge', max_iter=None, n_iter=None,\n",
       "       n_jobs=1, penalty='l2', power_t=0.5, random_state=42, shuffle=True,\n",
       "       tol=None, verbose=0, warm_start=False)>"
      ]
     },
     "execution_count": 8,
     "metadata": {},
     "output_type": "execute_result"
    }
   ],
   "source": [
    "# We know that loss hinge will use Linear classifier\n",
    "sgd_clf.get_params"
   ]
  },
  {
   "cell_type": "code",
   "execution_count": 9,
   "metadata": {},
   "outputs": [
    {
     "data": {
      "text/plain": [
       "array([0.9790006 , 0.97771492, 0.98199897])"
      ]
     },
     "execution_count": 9,
     "metadata": {},
     "output_type": "execute_result"
    }
   ],
   "source": [
    "# Let's use cross validation function to evaluate your SGDClassifier on for the digit 6\n",
    "from sklearn.model_selection import cross_val_score\n",
    "cross_val_score( sgd_clf, X_train, y_train_6, cv=3, scoring='accuracy')\n"
   ]
  },
  {
   "cell_type": "code",
   "execution_count": 10,
   "metadata": {},
   "outputs": [
    {
     "data": {
      "text/plain": [
       "array([0.9036599 , 0.90100283, 0.9016801 ])"
      ]
     },
     "execution_count": 10,
     "metadata": {},
     "output_type": "execute_result"
    }
   ],
   "source": [
    "# We create our Class for the digit 6\n",
    "from sklearn.base import BaseEstimator\n",
    "\n",
    "class Never6Classifier(BaseEstimator):\n",
    "    def fit(self, X, y=None):\n",
    "        pass\n",
    "    def predict(self,X):\n",
    "        return np.zeros((len(X),1), dtype=bool)\n",
    "\n",
    "Never_6_cf = Never6Classifier()\n",
    "cross_val_score( Never_6_cf, X_train, y_train_6, cv=3, scoring='accuracy')\n"
   ]
  },
  {
   "cell_type": "code",
   "execution_count": 11,
   "metadata": {},
   "outputs": [
    {
     "data": {
      "text/plain": [
       "array([[31255,   319],\n",
       "       [  396,  3030]], dtype=int64)"
      ]
     },
     "execution_count": 11,
     "metadata": {},
     "output_type": "execute_result"
    }
   ],
   "source": [
    "from sklearn.model_selection import cross_val_predict\n",
    "\n",
    "# The function cross_val_predict has a similar interface to cross_val_score, but returns, \n",
    "# for each element in the input, the prediction that was obtained for that element when it was in the test set.\n",
    "# Only cross-validation strategies that assign all elements to a test set exactly once can be used \n",
    "# (otherwise, an exception is raised)\n",
    "\n",
    "y_train_pred = cross_val_predict(sgd_clf, X_train, y_train_6, cv=3)\n",
    "\n",
    "from sklearn.metrics import confusion_matrix\n",
    "confusion_matrix(y_train_6,y_train_pred)\n"
   ]
  },
  {
   "cell_type": "code",
   "execution_count": 12,
   "metadata": {},
   "outputs": [
    {
     "data": {
      "image/png": "[encoded data removed]",
      "text/plain": [
       "<matplotlib.figure.Figure at 0x1828acf32b0>"
      ]
     },
     "metadata": {},
     "output_type": "display_data"
    }
   ],
   "source": [
    "# Let's now print the ROC and Precision-Recall curve to see the performance of Classification algorithm\n",
    "from sklearn.metrics import precision_recall_curve\n",
    "\n",
    "y_scores = cross_val_predict(sgd_clf, X_train, y_train_6, cv=3, method=\"decision_function\")\n",
    "precisions, recalls, thresholds = precision_recall_curve(y_train_6, y_scores)\n",
    "\n",
    "def plot_precision_recall_vs_threshold(precisions, recalls, thresholds):\n",
    "    fig = plt.figure(figsize=(10, 6))\n",
    "    fig.clf()\n",
    "    plt.plot(thresholds, precisions[:-1], \"b--\", label=\"precision\")\n",
    "    plt.plot(thresholds, recalls[:-1],\"g-\", label=\"Recall\")\n",
    "    plt.xlabel(\"Threshold\")\n",
    "    plt.legend(loc=\"center left\")\n",
    "    plt.ylim([0,1.1])\n",
    "    \n",
    "plot_precision_recall_vs_threshold(precisions, recalls, thresholds)\n",
    "plt.show()"
   ]
  },
  {
   "cell_type": "code",
   "execution_count": 13,
   "metadata": {},
   "outputs": [
    {
     "name": "stderr",
     "output_type": "stream",
     "text": [
      "No handles with labels found to put in legend.\n"
     ]
    },
    {
     "data": {
      "image/png": "[encoded data removed]",
      "text/plain": [
       "<matplotlib.figure.Figure at 0x1828acf3b38>"
      ]
     },
     "metadata": {},
     "output_type": "display_data"
    }
   ],
   "source": [
    "def plot_precision_vs_recall(precisions, recalls, thresholds):\n",
    "    fig = plt.figure(figsize=(10, 6))\n",
    "    fig.clf()\n",
    "    plt.plot(recalls[:-1], precisions[:-1], \"g-\")\n",
    "    plt.xlabel(\"recall\")\n",
    "    plt.ylabel(\"precision\")\n",
    "    plt.legend(loc=\"center left\")\n",
    "    plt.ylim([0,1.1])\n",
    "    \n",
    "plot_precision_vs_recall(precisions, recalls, thresholds)\n",
    "plt.show()"
   ]
  },
  {
   "cell_type": "code",
   "execution_count": 14,
   "metadata": {},
   "outputs": [
    {
     "data": {
      "text/plain": [
       "0.8975813675724097"
      ]
     },
     "execution_count": 14,
     "metadata": {},
     "output_type": "execute_result"
    }
   ],
   "source": [
    "from sklearn.metrics import precision_score, recall_score\n",
    "\n",
    "y_pred_90 = (y_scores>120000)\n",
    "\n",
    "# What is the recall for precision at 90%\n",
    "recall_score(y_train_pred,y_pred_90)"
   ]
  },
  {
   "cell_type": "code",
   "execution_count": 15,
   "metadata": {},
   "outputs": [
    {
     "data": {
      "image/png": "[encoded data removed]",
      "text/plain": [
       "<matplotlib.figure.Figure at 0x1828acd3518>"
      ]
     },
     "metadata": {},
     "output_type": "display_data"
    }
   ],
   "source": [
    "# We plot the ROC curve which gives additional info on the performance than precision / recall\n",
    "from sklearn.metrics import roc_curve\n",
    "\n",
    "fpr, tpr, thresholds = roc_curve(y_train_6, y_scores)\n",
    "\n",
    "def plot_roc_curve(fpr, tpr, label):\n",
    "    #plt.plot([0,1],[0,1], \"b--\", label=\"Random guess\")\n",
    "    plt.plot(fpr, tpr,\"g-\", label=label)\n",
    "    plt.xlabel(\"False Positive Rate\")\n",
    "    plt.ylabel(\"True Positive Rate\")\n",
    "    plt.legend(loc=\"center right\")\n",
    "    plt.ylim([-0.01,1.01])\n",
    "    plt.xlim([-0.01,1.01])\n",
    "    \n",
    "fig = plt.figure(figsize=(10, 6))\n",
    "fig.clf()\n",
    "    \n",
    "plot_roc_curve(fpr, tpr, \"TP\")\n",
    "plt.show()\n"
   ]
  },
  {
   "cell_type": "code",
   "execution_count": 16,
   "metadata": {
    "scrolled": false
   },
   "outputs": [
    {
     "data": {
      "image/png": "[encoded data removed]",
      "text/plain": [
       "<matplotlib.figure.Figure at 0x1828adf79e8>"
      ]
     },
     "metadata": {},
     "output_type": "display_data"
    }
   ],
   "source": [
    "# Now let's compare Linear with Random Forest\n",
    "from sklearn.ensemble import RandomForestClassifier\n",
    "\n",
    "rdnm_fst = RandomForestClassifier(random_state=10)\n",
    "\n",
    "y_scores_rdnm = cross_val_predict(rdnm_fst, X_train, y_train_6, cv=3, method=\"predict_proba\")\n",
    "#precisions, recalls, thresholds = precision_recall_curve(y_train_6, y_scores)\n",
    "\n",
    "fpr_rdnm, tpr_rdnm, thresholds_rdnm = roc_curve(y_train_6, y_scores_rdnm[:,1])\n",
    "\n",
    "fig = plt.figure(figsize=(10, 6))\n",
    "fig.clf()\n",
    "\n",
    "plt.plot(fpr, tpr,\"b:\", label=\"SGD\")\n",
    "plot_roc_curve(fpr_rdnm, tpr_rdnm,\"random forest\")\n",
    "plt.show()"
   ]
  },
  {
   "cell_type": "code",
   "execution_count": 17,
   "metadata": {},
   "outputs": [
    {
     "data": {
      "image/png": "[encoded data removed]",
      "text/plain": [
       "<matplotlib.figure.Figure at 0x1828ada4358>"
      ]
     },
     "metadata": {},
     "output_type": "display_data"
    }
   ],
   "source": [
    "# We can see that the RandomForest classifier does better than the Stochastic\n",
    "# We can also add Multinomial, Linear Discriminant Analysis and Naive Bayes\n",
    "from sklearn.naive_bayes import GaussianNB\n",
    "from sklearn.naive_bayes import BernoulliNB\n",
    "from sklearn.discriminant_analysis import LinearDiscriminantAnalysis\n",
    "\n",
    "svc_fst = GaussianNB()\n",
    "svc_brn = BernoulliNB()\n",
    "svc_lda = LinearDiscriminantAnalysis()\n",
    "\n",
    "y_scores_svc = cross_val_predict(svc_fst, X_train, y_train_6, cv=3, method=\"predict_proba\")\n",
    "y_scores_brn = cross_val_predict(svc_brn, X_train, y_train_6, cv=3, method=\"predict_proba\")\n",
    "y_scores_lda = cross_val_predict(svc_lda, X_train, y_train_6, cv=3, method=\"predict_proba\")\n",
    "#precisions, recalls, thresholds = precision_recall_curve(y_train_6, y_scores)\n",
    "\n",
    "fpr_svc, tpr_svc, thresholds_svc = roc_curve(y_train_6, y_scores_svc[:,1])\n",
    "fpr_brn, tpr_brn, thresholds_brn = roc_curve(y_train_6, y_scores_brn[:,1])\n",
    "fpr_lda, tpr_lda, thresholds_lda = roc_curve(y_train_6, y_scores_lda[:,1])\n",
    "\n",
    "fig = plt.figure(figsize=(10, 6))\n",
    "fig.clf()\n",
    "\n",
    "plt.plot(fpr, tpr,\"b:\", label=\"SGD\")\n",
    "plt.plot(fpr_rdnm, tpr_rdnm,\"-o\", label=\"random forest\")\n",
    "plt.plot(fpr_brn, tpr_brn,\"r--\", label=\"Naive Bayes\")\n",
    "plt.plot(fpr_lda, tpr_lda,\"y-\", label=\"Linear Discr Analysis\")\n",
    "plot_roc_curve(fpr_svc, tpr_svc,\"GaussianNB\")\n",
    "plt.show()\n"
   ]
  },
  {
   "cell_type": "code",
   "execution_count": 18,
   "metadata": {},
   "outputs": [
    {
     "data": {
      "text/plain": [
       "0.9952414718547199"
      ]
     },
     "execution_count": 18,
     "metadata": {},
     "output_type": "execute_result"
    }
   ],
   "source": [
    "# The air below the ROC curve is the AUC and also tells about overall performance\n",
    "from sklearn.metrics import roc_auc_score\n",
    "roc_auc_score(y_train_6,y_scores_rdnm[:,1])"
   ]
  },
  {
   "cell_type": "code",
   "execution_count": 19,
   "metadata": {},
   "outputs": [
    {
     "data": {
      "text/plain": [
       "array([0.81285347, 0.79161666, 0.8542524 ])"
      ]
     },
     "execution_count": 19,
     "metadata": {},
     "output_type": "execute_result"
    }
   ],
   "source": [
    "# We get 99.5% AUC score , it's amazing\n",
    "# We now study the Multiclass model, using default system OvA ( better for large training sets )\n",
    "sgd_clf.fit(X_train, y_train)\n",
    "# Let's now look at overall target, not only the number 6 but all\n",
    "cross_val_score( sgd_clf, X_train, y_train, cv=3, scoring='accuracy')"
   ]
  },
  {
   "cell_type": "code",
   "execution_count": 20,
   "metadata": {},
   "outputs": [
    {
     "data": {
      "text/plain": [
       "array([0.90882605, 0.9079376 , 0.90526406])"
      ]
     },
     "execution_count": 20,
     "metadata": {},
     "output_type": "execute_result"
    }
   ],
   "source": [
    "# We will add a scaler to the set to improve our performance\n",
    "from sklearn.preprocessing import StandardScaler\n",
    "scaler = StandardScaler()\n",
    "X_train_scaled = scaler.fit_transform(X_train.astype(np.float64))\n",
    "cross_val_score( sgd_clf, X_train_scaled, y_train, cv=3, scoring='accuracy')"
   ]
  },
  {
   "cell_type": "markdown",
   "metadata": {},
   "source": [
    "We have improved score by 3% by scaling, it is worth doing feature engineering"
   ]
  },
  {
   "cell_type": "markdown",
   "metadata": {},
   "source": [
    "## B. We want to build a pipeline in order to transform the data, scaling the data and do feature ingeneering"
   ]
  },
  {
   "cell_type": "markdown",
   "metadata": {},
   "source": [
    "### 1) Multinomial or Softmax Classifier"
   ]
  },
  {
   "cell_type": "code",
   "execution_count": 21,
   "metadata": {},
   "outputs": [
    {
     "data": {
      "text/plain": [
       "array([0.87686375, 0.86207783, 0.86582647])"
      ]
     },
     "execution_count": 21,
     "metadata": {},
     "output_type": "execute_result"
    }
   ],
   "source": [
    "Multinomial = SGDClassifier(loss='log')\n",
    "cross_val_score( Multinomial, X_train, y_train, cv=3, scoring='accuracy')"
   ]
  },
  {
   "cell_type": "code",
   "execution_count": 22,
   "metadata": {},
   "outputs": [
    {
     "data": {
      "text/plain": [
       "array([0.91062554, 0.90716612, 0.905607  ])"
      ]
     },
     "execution_count": 22,
     "metadata": {},
     "output_type": "execute_result"
    }
   ],
   "source": [
    "cross_val_score( Multinomial, X_train_scaled, y_train, cv=3, scoring='accuracy')"
   ]
  },
  {
   "cell_type": "code",
   "execution_count": 23,
   "metadata": {},
   "outputs": [],
   "source": [
    "# Now let's built the training set with more data by moving up and down the images\n",
    "# We define 4 different functions and create a Class with fit_transform method to \n",
    "# include in the pipeline\n",
    "\n",
    "from sklearn.base import TransformerMixin \n",
    "from sklearn.base import BaseEstimator, TransformerMixin\n",
    "from sklearn.pipeline import Pipeline, FeatureUnion\n",
    "from sklearn.model_selection import GridSearchCV\n",
    "\n",
    "def down(X_train,delta):\n",
    "    shifted = []    \n",
    "    for digit in X_train:\n",
    "        digit = DataFrame(digit.reshape(28,28)).shift(delta).fillna(0)        \n",
    "        shifted.append(digit.values.flatten())\n",
    "    return np.array(shifted)\n",
    "\n",
    "\n",
    "def up(X_train,delta):\n",
    "    shifted = []    \n",
    "    for digit in X_train:\n",
    "        digit = DataFrame(digit.reshape(28,28)).shift(-delta).fillna(0)        \n",
    "        shifted.append(digit.values.flatten())\n",
    "    return np.array(shifted)\n",
    "\n",
    "def left(X_train,delta):\n",
    "    shifted = []    \n",
    "    for digit in X_train:\n",
    "        digit = DataFrame(digit.reshape(28,28)).shift(-delta,axis=1).fillna(0)        \n",
    "        shifted.append(digit.values.flatten())\n",
    "    return np.array(shifted)\n",
    "\n",
    "\n",
    "def right(X_train,delta):\n",
    "    shifted = []    \n",
    "    for digit in X_train:\n",
    "        digit = DataFrame(digit.reshape(28,28)).shift(delta,axis=1).fillna(0)        \n",
    "        shifted.append(digit.values.flatten())\n",
    "    return np.array(shifted)\n",
    "\n",
    "\n",
    "class Add_shifted_train(BaseEstimator, TransformerMixin):\n",
    "    \"\"\"Transform or add new\"\"\"\n",
    "    def __init__(self,delta):\n",
    "        self.delta = delta\n",
    "        \n",
    "    def fit(self, X_train, y=None):\n",
    "        return self\n",
    "\n",
    "    def transform(self, X_train):\n",
    "        X_down = down(X_train,self.delta)\n",
    "        X_up = up(X_train,self.delta)\n",
    "        X_left = left(X_train,self.delta)\n",
    "        X_right = right(X_train,self.delta)\n",
    "        return np.concatenate((X_train,X_down,X_up,X_left,X_right),axis=0)\n",
    "    \n",
    "# We create 1 instance of the class to use later in the pipeline\n",
    "x_train_and_shift = Add_shifted_train(1)"
   ]
  },
  {
   "cell_type": "code",
   "execution_count": 24,
   "metadata": {},
   "outputs": [
    {
     "data": {
      "image/png": "[encoded data removed]",
      "text/plain": [
       "<matplotlib.figure.Figure at 0x1828ae1c7b8>"
      ]
     },
     "metadata": {},
     "output_type": "display_data"
    }
   ],
   "source": [
    "# We plot an example digit which has been shifted up, down, right and left\n",
    "fig = plt.figure(figsize=(10, 6))\n",
    "fig.clf()\n",
    "\n",
    "some_digit = X_train[2000]\n",
    "\n",
    "plt.subplot(221);plt.imshow(some_digit.reshape(28,28),cmap = matplotlib.cm.binary, interpolation = 'nearest')\n",
    "plt.title('Original')\n",
    "plt.subplot(222);plt.imshow(down(X_train,5)[2000].reshape(28,28),cmap = matplotlib.cm.binary, interpolation = 'nearest')\n",
    "plt.title('Shift down')\n",
    "plt.subplot(223);plt.imshow(up(X_train,5)[2000].reshape(28,28),cmap = matplotlib.cm.binary, interpolation = 'nearest')\n",
    "plt.title('Shift up')\n",
    "plt.subplot(224);plt.imshow(left(X_train,5)[2000].reshape(28,28),cmap = matplotlib.cm.binary, interpolation = 'nearest')\n",
    "plt.title('Shift left')\n",
    "\n",
    "plt.show()"
   ]
  },
  {
   "cell_type": "markdown",
   "metadata": {},
   "source": [
    "### 2) Random Forest Classifier"
   ]
  },
  {
   "cell_type": "code",
   "execution_count": 25,
   "metadata": {},
   "outputs": [],
   "source": [
    "full_pipeline_with_shift = Pipeline([\n",
    "    ('shift', Add_shifted_train(1)),\n",
    "    ('scaler',StandardScaler()),\n",
    "])\n",
    "\n",
    "y = np.concatenate((y_train,y_train,y_train,y_train,y_train),axis=0)\n",
    "\n",
    "X_train_prep = full_pipeline_with_shift.fit_transform(X_train)"
   ]
  },
  {
   "cell_type": "code",
   "execution_count": 26,
   "metadata": {},
   "outputs": [
    {
     "data": {
      "text/plain": [
       "array([0.95061369, 0.90744677, 0.93195611])"
      ]
     },
     "execution_count": 26,
     "metadata": {},
     "output_type": "execute_result"
    }
   ],
   "source": [
    "rdm = RandomForestClassifier(random_state=10)\n",
    "\n",
    "cross_val_score( rdm, X_train_prep, y, cv=3, scoring='accuracy')"
   ]
  },
  {
   "cell_type": "code",
   "execution_count": 27,
   "metadata": {},
   "outputs": [
    {
     "data": {
      "text/plain": [
       "GridSearchCV(cv=5, error_score='raise',\n",
       "       estimator=RandomForestClassifier(bootstrap=True, class_weight=None, criterion='gini',\n",
       "            max_depth=None, max_features='auto', max_leaf_nodes=None,\n",
       "            min_impurity_decrease=0.0, min_impurity_split=None,\n",
       "            min_samples_leaf=1, min_samples_split=2,\n",
       "            min_weight_fraction_leaf=0.0, n_estimators=10, n_jobs=1,\n",
       "            oob_score=False, random_state=None, verbose=0,\n",
       "            warm_start=False),\n",
       "       fit_params=None, iid=True, n_jobs=1,\n",
       "       param_grid={'n_estimators': [5, 10, 30]}, pre_dispatch='2*n_jobs',\n",
       "       refit=True, return_train_score='warn', scoring='accuracy',\n",
       "       verbose=0)"
      ]
     },
     "execution_count": 27,
     "metadata": {},
     "output_type": "execute_result"
    }
   ],
   "source": [
    "# Will grid search best params of our model\n",
    "rdm = RandomForestClassifier()\n",
    "\n",
    "param_distribs = {\n",
    "        'n_estimators': [5,10,30],\n",
    "    }\n",
    "\n",
    "grid_search = GridSearchCV(rdm, param_grid=param_distribs,\n",
    "                                cv=5, scoring='accuracy')\n",
    "grid_search.fit(X_train_prep, y)"
   ]
  },
  {
   "cell_type": "code",
   "execution_count": 28,
   "metadata": {},
   "outputs": [
    {
     "name": "stdout",
     "output_type": "stream",
     "text": [
      "Scores: 0.7822457142857143\n",
      "Mean: 0.32745952606201173\n",
      "Standard deviation: 0.1675787893390307\n",
      "Best params: {'n_estimators': 30}\n"
     ]
    }
   ],
   "source": [
    "scores = grid_search.best_score_\n",
    "\n",
    "def display_scores_params(scores):\n",
    "    print(\"Scores:\", scores)\n",
    "    print(\"Mean:\", grid_search.cv_results_['mean_score_time'].mean())\n",
    "    print(\"Standard deviation:\", grid_search.cv_results_['mean_score_time'].std())\n",
    "    print(\"Best params:\", grid_search.best_params_)\n",
    "    \n",
    "display_scores_params(scores)"
   ]
  },
  {
   "cell_type": "markdown",
   "metadata": {},
   "source": [
    "### 3) Confusion matrix of our model"
   ]
  },
  {
   "cell_type": "code",
   "execution_count": 29,
   "metadata": {},
   "outputs": [
    {
     "data": {
      "text/html": [
       "<div>\n",
       "<style scoped>\n",
       "    .dataframe tbody tr th:only-of-type {\n",
       "        vertical-align: middle;\n",
       "    }\n",
       "\n",
       "    .dataframe tbody tr th {\n",
       "        vertical-align: top;\n",
       "    }\n",
       "\n",
       "    .dataframe thead th {\n",
       "        text-align: right;\n",
       "    }\n",
       "</style>\n",
       "<table border=\"1\" class=\"dataframe\">\n",
       "  <thead>\n",
       "    <tr style=\"text-align: right;\">\n",
       "      <th>Predicted</th>\n",
       "      <th>0</th>\n",
       "      <th>1</th>\n",
       "      <th>2</th>\n",
       "      <th>3</th>\n",
       "      <th>4</th>\n",
       "      <th>5</th>\n",
       "      <th>6</th>\n",
       "      <th>7</th>\n",
       "      <th>8</th>\n",
       "      <th>9</th>\n",
       "    </tr>\n",
       "    <tr>\n",
       "      <th>Actual</th>\n",
       "      <th></th>\n",
       "      <th></th>\n",
       "      <th></th>\n",
       "      <th></th>\n",
       "      <th></th>\n",
       "      <th></th>\n",
       "      <th></th>\n",
       "      <th></th>\n",
       "      <th></th>\n",
       "      <th></th>\n",
       "    </tr>\n",
       "  </thead>\n",
       "  <tbody>\n",
       "    <tr>\n",
       "      <th>0</th>\n",
       "      <td>16131</td>\n",
       "      <td>8</td>\n",
       "      <td>58</td>\n",
       "      <td>77</td>\n",
       "      <td>27</td>\n",
       "      <td>283</td>\n",
       "      <td>192</td>\n",
       "      <td>26</td>\n",
       "      <td>242</td>\n",
       "      <td>36</td>\n",
       "    </tr>\n",
       "    <tr>\n",
       "      <th>1</th>\n",
       "      <td>2</td>\n",
       "      <td>17692</td>\n",
       "      <td>160</td>\n",
       "      <td>398</td>\n",
       "      <td>12</td>\n",
       "      <td>181</td>\n",
       "      <td>25</td>\n",
       "      <td>464</td>\n",
       "      <td>553</td>\n",
       "      <td>28</td>\n",
       "    </tr>\n",
       "    <tr>\n",
       "      <th>2</th>\n",
       "      <td>170</td>\n",
       "      <td>127</td>\n",
       "      <td>15071</td>\n",
       "      <td>320</td>\n",
       "      <td>374</td>\n",
       "      <td>113</td>\n",
       "      <td>422</td>\n",
       "      <td>245</td>\n",
       "      <td>602</td>\n",
       "      <td>86</td>\n",
       "    </tr>\n",
       "    <tr>\n",
       "      <th>3</th>\n",
       "      <td>191</td>\n",
       "      <td>173</td>\n",
       "      <td>527</td>\n",
       "      <td>14867</td>\n",
       "      <td>24</td>\n",
       "      <td>912</td>\n",
       "      <td>176</td>\n",
       "      <td>179</td>\n",
       "      <td>746</td>\n",
       "      <td>315</td>\n",
       "    </tr>\n",
       "    <tr>\n",
       "      <th>4</th>\n",
       "      <td>96</td>\n",
       "      <td>74</td>\n",
       "      <td>188</td>\n",
       "      <td>74</td>\n",
       "      <td>14475</td>\n",
       "      <td>63</td>\n",
       "      <td>256</td>\n",
       "      <td>89</td>\n",
       "      <td>586</td>\n",
       "      <td>934</td>\n",
       "    </tr>\n",
       "    <tr>\n",
       "      <th>5</th>\n",
       "      <td>281</td>\n",
       "      <td>155</td>\n",
       "      <td>143</td>\n",
       "      <td>848</td>\n",
       "      <td>268</td>\n",
       "      <td>12732</td>\n",
       "      <td>439</td>\n",
       "      <td>83</td>\n",
       "      <td>764</td>\n",
       "      <td>262</td>\n",
       "    </tr>\n",
       "    <tr>\n",
       "      <th>6</th>\n",
       "      <td>190</td>\n",
       "      <td>171</td>\n",
       "      <td>211</td>\n",
       "      <td>73</td>\n",
       "      <td>576</td>\n",
       "      <td>333</td>\n",
       "      <td>14914</td>\n",
       "      <td>132</td>\n",
       "      <td>239</td>\n",
       "      <td>291</td>\n",
       "    </tr>\n",
       "    <tr>\n",
       "      <th>7</th>\n",
       "      <td>127</td>\n",
       "      <td>147</td>\n",
       "      <td>342</td>\n",
       "      <td>163</td>\n",
       "      <td>219</td>\n",
       "      <td>113</td>\n",
       "      <td>32</td>\n",
       "      <td>16055</td>\n",
       "      <td>385</td>\n",
       "      <td>827</td>\n",
       "    </tr>\n",
       "    <tr>\n",
       "      <th>8</th>\n",
       "      <td>189</td>\n",
       "      <td>495</td>\n",
       "      <td>141</td>\n",
       "      <td>728</td>\n",
       "      <td>44</td>\n",
       "      <td>673</td>\n",
       "      <td>153</td>\n",
       "      <td>102</td>\n",
       "      <td>13970</td>\n",
       "      <td>385</td>\n",
       "    </tr>\n",
       "    <tr>\n",
       "      <th>9</th>\n",
       "      <td>202</td>\n",
       "      <td>185</td>\n",
       "      <td>93</td>\n",
       "      <td>448</td>\n",
       "      <td>653</td>\n",
       "      <td>180</td>\n",
       "      <td>5</td>\n",
       "      <td>706</td>\n",
       "      <td>1355</td>\n",
       "      <td>13708</td>\n",
       "    </tr>\n",
       "  </tbody>\n",
       "</table>\n",
       "</div>"
      ],
      "text/plain": [
       "Predicted      0      1      2      3      4      5      6      7      8  \\\n",
       "Actual                                                                     \n",
       "0          16131      8     58     77     27    283    192     26    242   \n",
       "1              2  17692    160    398     12    181     25    464    553   \n",
       "2            170    127  15071    320    374    113    422    245    602   \n",
       "3            191    173    527  14867     24    912    176    179    746   \n",
       "4             96     74    188     74  14475     63    256     89    586   \n",
       "5            281    155    143    848    268  12732    439     83    764   \n",
       "6            190    171    211     73    576    333  14914    132    239   \n",
       "7            127    147    342    163    219    113     32  16055    385   \n",
       "8            189    495    141    728     44    673    153    102  13970   \n",
       "9            202    185     93    448    653    180      5    706   1355   \n",
       "\n",
       "Predicted      9  \n",
       "Actual            \n",
       "0             36  \n",
       "1             28  \n",
       "2             86  \n",
       "3            315  \n",
       "4            934  \n",
       "5            262  \n",
       "6            291  \n",
       "7            827  \n",
       "8            385  \n",
       "9          13708  "
      ]
     },
     "execution_count": 29,
     "metadata": {},
     "output_type": "execute_result"
    }
   ],
   "source": [
    "# We choose the Multinomial model\n",
    "y_train_pred = cross_val_predict(Multinomial, X_train_prep, y, cv=3)\n",
    "\n",
    "df_confusion_matrix = DataFrame(confusion_matrix(y,y_train_pred), index = np.arange(10), columns = np.arange(10))\n",
    "\n",
    "df_confusion_matrix.columns.name = 'Predicted'\n",
    "df_confusion_matrix.index.name = 'Actual'\n",
    "\n",
    "df_confusion_matrix"
   ]
  },
  {
   "cell_type": "code",
   "execution_count": 30,
   "metadata": {},
   "outputs": [
    {
     "data": {
      "image/png": "[encoded data removed]",
      "text/plain": [
       "<matplotlib.figure.Figure at 0x23c802c0898>"
      ]
     },
     "metadata": {},
     "output_type": "display_data"
    }
   ],
   "source": [
    "# Or we can look at errors\n",
    "row_sums = confusion_matrix(y,y_train_pred).sum(axis=1,keepdims=True)\n",
    "\n",
    "norm_conf_mx = confusion_matrix(y,y_train_pred) / row_sums\n",
    "\n",
    "np.fill_diagonal(norm_conf_mx,0)\n",
    "plt.matshow(norm_conf_mx,cmap=plt.cm.gray)\n",
    "plt.show()"
   ]
  },
  {
   "cell_type": "code",
   "execution_count": 31,
   "metadata": {},
   "outputs": [
    {
     "data": {
      "image/png": "[encoded data removed]",
      "text/plain": [
       "<matplotlib.figure.Figure at 0x23c80388358>"
      ]
     },
     "metadata": {},
     "output_type": "display_data"
    }
   ],
   "source": [
    "# Seems that 8 is very often predicted as 3's \n",
    "cl_a, cl_b = 8,5\n",
    "X_aa = X_train_prep[(y == cl_a) & (y_train_pred == cl_a)]\n",
    "X_ab = X_train_prep[(y == cl_a) & (y_train_pred == cl_b)]\n",
    "X_ba = X_train_prep[(y == cl_b) & (y_train_pred == cl_a)]\n",
    "X_bb = X_train_prep[(y == cl_b) & (y_train_pred == cl_b)]\n",
    "\n",
    "\n",
    "def plot_digits(instances, images_per_row=10, **options):\n",
    "    size = 28\n",
    "    images_per_row = min(len(instances), images_per_row)\n",
    "    images = [instance.reshape(size,size) for instance in instances]\n",
    "    n_rows = (len(instances) - 1) // images_per_row + 1\n",
    "    row_images = []\n",
    "    n_empty = n_rows * images_per_row - len(instances)\n",
    "    images.append(np.zeros((size, size * n_empty)))\n",
    "    for row in range(n_rows):\n",
    "        rimages = images[row * images_per_row : (row + 1) * images_per_row]\n",
    "        row_images.append(np.concatenate(rimages, axis=1))\n",
    "    image = np.concatenate(row_images, axis=0)\n",
    "    plt.imshow(image, cmap = matplotlib.cm.binary, **options)\n",
    "    plt.axis(\"off\")\n",
    "\n",
    "plt.figure(figsize=(8,8))\n",
    "\n",
    "plt.subplot(221);plot_digits(X_aa[:25],images_per_row=5)\n",
    "plt.subplot(222);plot_digits(X_ab[:25],images_per_row=5)\n",
    "plt.subplot(223);plot_digits(X_ba[:25],images_per_row=5)\n",
    "plt.subplot(224);plot_digits(X_bb[:25],images_per_row=5)\n",
    "plt.show()\n"
   ]
  },
  {
   "cell_type": "markdown",
   "metadata": {},
   "source": [
    "### 3) And the KNearestNeighbor"
   ]
  },
  {
   "cell_type": "code",
   "execution_count": 29,
   "metadata": {},
   "outputs": [
    {
     "data": {
      "text/plain": [
       "array([0.95376783, 0.93189221, 0.93673924])"
      ]
     },
     "execution_count": 29,
     "metadata": {},
     "output_type": "execute_result"
    }
   ],
   "source": [
    "# Question 1) Build a Classifier which have more than 97% accuracy\n",
    "from sklearn.neighbors import KNeighborsClassifier\n",
    "\n",
    "KNN = KNeighborsClassifier()\n",
    "\n",
    "cross_val_score( KNN, X_train, y, cv=3, scoring='accuracy')"
   ]
  },
  {
   "cell_type": "code",
   "execution_count": 23,
   "metadata": {
    "scrolled": true
   },
   "outputs": [],
   "source": [
    "# I should run the grid search to find the best hyperparameters but it took me 20 hours to run 3 CV \n",
    "# with above model, so it will be too long to run 3 * 5 combinations with each 5 CV\n",
    "\n",
    "# Will grid search best params of our pipeline\n",
    "\n",
    "#param_distribs = {\n",
    "#        'n_neighbors': [3,4,10],\n",
    "#        'weights': ['uniform','distance'],\n",
    "#        'n_jobs':[-1]\n",
    "#    }\n",
    "\n",
    "#grid_search = GridSearchCV(full_pipeline_with_shift, param_grid=param_distribs,\n",
    "#                                cv=5, scoring='accuracy')\n",
    "#grid_search.fit(X_train, y)"
   ]
  },
  {
   "cell_type": "code",
   "execution_count": 36,
   "metadata": {},
   "outputs": [
    {
     "data": {
      "text/plain": [
       "KNeighborsClassifier(algorithm='auto', leaf_size=30, metric='minkowski',\n",
       "           metric_params=None, n_jobs=-1, n_neighbors=5, p=2,\n",
       "           weights='distance')"
      ]
     },
     "execution_count": 36,
     "metadata": {},
     "output_type": "execute_result"
    }
   ],
   "source": [
    "from sklearn.neighbors import KNeighborsClassifier\n",
    "\n",
    "# We should have obtained 4 neighbors as the best parameters for the model, and uniform as weight, which is the default para\n",
    "KNN = KNeighborsClassifier(n_jobs=-1, weights='distance', n_neighbors=5)\n",
    "\n",
    "X_train_augmented = Add_shifted_train(1).fit_transform(X_train)\n",
    "\n",
    "KNN.fit(X_train_augmented, y)\n",
    "\n",
    "# We should run again a cross validation to be sure that we get a correct value for the score\n",
    "# But as we explained before, it would take too long and until I find a better computer\n",
    "# so we will calculate the training score, knowing that we get a biaised results.\n",
    "# Since the scores on the previous 3 CV were higher than for all the other model, we trust\n",
    "# this model is outperforming\n"
   ]
  },
  {
   "cell_type": "code",
   "execution_count": 37,
   "metadata": {},
   "outputs": [
    {
     "data": {
      "text/plain": [
       "0.9758571428571429"
      ]
     },
     "execution_count": 37,
     "metadata": {},
     "output_type": "execute_result"
    }
   ],
   "source": [
    "from sklearn.metrics import accuracy_score\n",
    "y_knn_pred = KNN.predict(X_test)\n",
    "\n",
    "accuracy_score(y_test, y_knn_pred)"
   ]
  },
  {
   "cell_type": "markdown",
   "metadata": {},
   "source": [
    "## C. Will run the prediction for the test set from Kaggle competition"
   ]
  },
  {
   "cell_type": "code",
   "execution_count": 39,
   "metadata": {
    "scrolled": true
   },
   "outputs": [],
   "source": [
    "# Retreive data from csv file\n",
    "test = pd.read_csv('test.csv',sep=',')\n",
    "\n",
    "kaggle_pred = KNN.predict(test)\n",
    "\n",
    "results = pd.DataFrame({\n",
    "    'ImageID': pd.Series(range(1,28001)),\n",
    "    'Label' : kaggle_pred,\n",
    "})\n",
    "\n",
    "results.to_csv(\"test.csv\", index=False)"
   ]
  },
  {
   "cell_type": "markdown",
   "metadata": {},
   "source": [
    "## D. Let's try with SVM and Gaussian / Polynomial Kernel"
   ]
  },
  {
   "cell_type": "markdown",
   "metadata": {},
   "source": [
    "####    1) Polynomial : Pre-processing and SVC"
   ]
  },
  {
   "cell_type": "code",
   "execution_count": 49,
   "metadata": {},
   "outputs": [
    {
     "data": {
      "text/plain": [
       "array([[0., 0., 0., ..., 0., 0., 0.],\n",
       "       [0., 0., 0., ..., 0., 0., 0.],\n",
       "       [0., 0., 0., ..., 0., 0., 0.],\n",
       "       ...,\n",
       "       [0., 0., 0., ..., 0., 0., 0.],\n",
       "       [0., 0., 0., ..., 0., 0., 0.],\n",
       "       [0., 0., 0., ..., 0., 0., 0.]])"
      ]
     },
     "execution_count": 49,
     "metadata": {},
     "output_type": "execute_result"
    }
   ],
   "source": [
    "from sklearn.svm import SVC\n",
    "\n",
    "# We now pre-process data by adding Polynomial degree number 3\n",
    "full_pipeline_with_svc = Pipeline([\n",
    "    ('poly_features', PolynomialFeatures(degree=3)),\n",
    "    ('scaler',StandardScaler()),\n",
    "    #('svm',SGDClassifier(loss='hinge', alpha = 1/(m*10))),\n",
    "])"
   ]
  },
  {
   "cell_type": "code",
   "execution_count": 50,
   "metadata": {},
   "outputs": [
    {
     "name": "stdout",
     "output_type": "stream",
     "text": [
      "Fitting 2 folds for each of 1 candidates, totalling 2 fits\n",
      "[CV] poly_features__degree=3 .........................................\n",
      "[CV] .......................... poly_features__degree=3, total=32.8min\n"
     ]
    },
    {
     "name": "stderr",
     "output_type": "stream",
     "text": [
      "[Parallel(n_jobs=1)]: Done   1 out of   1 | elapsed: 48.3min remaining:    0.0s\n"
     ]
    },
    {
     "name": "stdout",
     "output_type": "stream",
     "text": [
      "[CV] poly_features__degree=3 .........................................\n",
      "[CV] .......................... poly_features__degree=3, total=35.8min\n"
     ]
    },
    {
     "name": "stderr",
     "output_type": "stream",
     "text": [
      "[Parallel(n_jobs=1)]: Done   2 out of   2 | elapsed: 101.1min finished\n"
     ]
    },
    {
     "data": {
      "text/plain": [
       "GridSearchCV(cv=2, error_score='raise',\n",
       "       estimator=Pipeline(memory=None,\n",
       "     steps=[('poly_features', PolynomialFeatures(degree=3, include_bias=True, interaction_only=False)), ('scaler', StandardScaler(copy=True, with_mean=True, with_std=True)), ('svm', SGDClassifier(alpha=0.00012755102040816328, average=False, class_weight=None,\n",
       "       epsilon=0.1, eta0=0.0, fit_intercept=T...='l2', power_t=0.5, random_state=None,\n",
       "       shuffle=True, tol=None, verbose=0, warm_start=False))]),\n",
       "       fit_params=None, iid=True, n_jobs=1,\n",
       "       param_grid={'poly_features__degree': [3]}, pre_dispatch='2*n_jobs',\n",
       "       refit=True, return_train_score='warn', scoring='accuracy',\n",
       "       verbose=2)"
      ]
     },
     "execution_count": 50,
     "metadata": {},
     "output_type": "execute_result"
    }
   ],
   "source": [
    "param_distribs = {\n",
    "        'poly_features__degree': [3],\n",
    "    }\n",
    "\n",
    "\n",
    "grid_search = GridSearchCV(full_pipeline_with_svc,param_grid=param_distribs,\n",
    "                                cv=2, scoring='accuracy', verbose=2)\n",
    "\n",
    "grid_search.fit(X_train_augmented[1:10], y[1:10])"
   ]
  },
  {
   "cell_type": "markdown",
   "metadata": {},
   "source": [
    "We conclude here that the timing is much too long for training only 10 training examples, with total of almost 3 hours. This is not the best way to apply polynomial Kernel before running SVC.\n",
    "\n",
    "In the following section, we use Polynomial Kernel from the SVC method directly, to see if runs faster."
   ]
  },
  {
   "cell_type": "code",
   "execution_count": 25,
   "metadata": {},
   "outputs": [],
   "source": [
    "# We need to transform the X matrix before\n",
    "from sklearn.preprocessing import PolynomialFeatures\n",
    "from sklearn.svm import LinearSVC\n",
    "\n",
    "X_train_augmented = Add_shifted_train(1).fit_transform(X_train)\n",
    "X_stacked = matrix_transf().fit_transform(X_train)\n",
    "\n",
    "m = X_stacked.shape[1]\n",
    "\n",
    "full_pipeline_with_svc = Pipeline([\n",
    "    #('poly_features', PolynomialFeatures(degree=3)),\n",
    "    ('scaler',StandardScaler()),\n",
    "    ('svc',SVC()),\n",
    "    #('svm',SGDClassifier(loss='hinge', alpha = 1/(m*10))),\n",
    "])\n",
    "\n",
    "param_distribs = {\n",
    "        'svc__degree': [3],\n",
    "        'svc__kernel':['poly'],\n",
    "        'svc__C': [0.001,1.0,10000],\n",
    "    }\n",
    "\n",
    "full_pipeline_with_svc.get_params()"
   ]
  },
  {
   "cell_type": "code",
   "execution_count": 35,
   "metadata": {},
   "outputs": [
    {
     "name": "stdout",
     "output_type": "stream",
     "text": [
      "Fitting 5 folds for each of 3 candidates, totalling 15 fits\n",
      "[CV] svc__C=0.001, svc__degree=3, svc__kernel=poly ...................\n",
      "[CV] .... svc__C=0.001, svc__degree=3, svc__kernel=poly, total= 2.0min\n",
      "[CV] svc__C=0.001, svc__degree=3, svc__kernel=poly ...................\n"
     ]
    },
    {
     "name": "stderr",
     "output_type": "stream",
     "text": [
      "[Parallel(n_jobs=1)]: Done   1 out of   1 | elapsed:  2.7min remaining:    0.0s\n"
     ]
    },
    {
     "name": "stdout",
     "output_type": "stream",
     "text": [
      "[CV] .... svc__C=0.001, svc__degree=3, svc__kernel=poly, total= 1.7min\n",
      "[CV] svc__C=0.001, svc__degree=3, svc__kernel=poly ...................\n",
      "[CV] .... svc__C=0.001, svc__degree=3, svc__kernel=poly, total= 1.6min\n",
      "[CV] svc__C=0.001, svc__degree=3, svc__kernel=poly ...................\n",
      "[CV] .... svc__C=0.001, svc__degree=3, svc__kernel=poly, total= 1.8min\n",
      "[CV] svc__C=0.001, svc__degree=3, svc__kernel=poly ...................\n",
      "[CV] .... svc__C=0.001, svc__degree=3, svc__kernel=poly, total= 1.7min\n",
      "[CV] svc__C=1.0, svc__degree=3, svc__kernel=poly .....................\n",
      "[CV] ...... svc__C=1.0, svc__degree=3, svc__kernel=poly, total=  24.0s\n",
      "[CV] svc__C=1.0, svc__degree=3, svc__kernel=poly .....................\n",
      "[CV] ...... svc__C=1.0, svc__degree=3, svc__kernel=poly, total=  24.4s\n",
      "[CV] svc__C=1.0, svc__degree=3, svc__kernel=poly .....................\n",
      "[CV] ...... svc__C=1.0, svc__degree=3, svc__kernel=poly, total=  27.5s\n",
      "[CV] svc__C=1.0, svc__degree=3, svc__kernel=poly .....................\n",
      "[CV] ...... svc__C=1.0, svc__degree=3, svc__kernel=poly, total=  32.1s\n",
      "[CV] svc__C=1.0, svc__degree=3, svc__kernel=poly .....................\n",
      "[CV] ...... svc__C=1.0, svc__degree=3, svc__kernel=poly, total=  32.9s\n",
      "[CV] svc__C=10000, svc__degree=3, svc__kernel=poly ...................\n",
      "[CV] .... svc__C=10000, svc__degree=3, svc__kernel=poly, total=10.9min\n",
      "[CV] svc__C=10000, svc__degree=3, svc__kernel=poly ...................\n",
      "[CV] .... svc__C=10000, svc__degree=3, svc__kernel=poly, total=12.2min\n",
      "[CV] svc__C=10000, svc__degree=3, svc__kernel=poly ...................\n",
      "[CV] .... svc__C=10000, svc__degree=3, svc__kernel=poly, total=12.5min\n",
      "[CV] svc__C=10000, svc__degree=3, svc__kernel=poly ...................\n",
      "[CV] .... svc__C=10000, svc__degree=3, svc__kernel=poly, total=70.7min\n",
      "[CV] svc__C=10000, svc__degree=3, svc__kernel=poly ...................\n",
      "[CV] .... svc__C=10000, svc__degree=3, svc__kernel=poly, total=21.3min\n"
     ]
    },
    {
     "name": "stderr",
     "output_type": "stream",
     "text": [
      "[Parallel(n_jobs=1)]: Done  15 out of  15 | elapsed: 144.7min finished\n"
     ]
    },
    {
     "data": {
      "text/plain": [
       "GridSearchCV(cv=5, error_score='raise',\n",
       "       estimator=Pipeline(memory=None,\n",
       "     steps=[('scaler', StandardScaler(copy=True, with_mean=True, with_std=True)), ('svc', SVC(C=1.0, cache_size=200, class_weight=None, coef0=0.0,\n",
       "  decision_function_shape='ovr', degree=3, gamma='auto', kernel='rbf',\n",
       "  max_iter=-1, probability=False, random_state=None, shrinking=True,\n",
       "  tol=0.001, verbose=False))]),\n",
       "       fit_params=None, iid=True, n_jobs=1,\n",
       "       param_grid={'svc__degree': [3], 'svc__kernel': ['poly'], 'svc__C': [0.001, 1.0, 10000]},\n",
       "       pre_dispatch='2*n_jobs', refit=True, return_train_score='warn',\n",
       "       scoring='accuracy', verbose=2)"
      ]
     },
     "execution_count": 35,
     "metadata": {},
     "output_type": "execute_result"
    }
   ],
   "source": [
    "y = np.concatenate((y_train,y_train,y_train,y_train,y_train),axis=0)\n",
    "\n",
    "grid_search = GridSearchCV(full_pipeline_with_svc,param_grid=param_distribs,\n",
    "                                cv=5, scoring='accuracy', verbose=2)\n",
    "\n",
    "grid_search.fit(X_stacked, y_train)"
   ]
  },
  {
   "cell_type": "code",
   "execution_count": 38,
   "metadata": {},
   "outputs": [
    {
     "name": "stdout",
     "output_type": "stream",
     "text": [
      "Scores: 0.8254285714285714\n",
      "Mean: 5.691287469863891\n",
      "Standard deviation: 1.9308838189186108\n",
      "Best params: {'svc__C': 10000, 'svc__degree': 3, 'svc__kernel': 'poly'}\n"
     ]
    }
   ],
   "source": [
    "# We look at the scores result and see if we get accuracy at least above 90%\n",
    "scores = grid_search.best_score_\n",
    "\n",
    "def display_scores_params(scores):\n",
    "    print(\"Scores:\", scores)\n",
    "    print(\"Mean:\", grid_search.cv_results_['mean_score_time'].mean())\n",
    "    print(\"Standard deviation:\", grid_search.cv_results_['mean_score_time'].std())\n",
    "    print(\"Best params:\", grid_search.best_params_)\n",
    "    \n",
    "display_scores_params(scores)"
   ]
  },
  {
   "cell_type": "markdown",
   "metadata": {},
   "source": [
    "So we deduct that 82% as best score for polynomial transformation is not sattisfying. We should run a Grida search for wider parameter range, for polynomial degree and C as we should see better accuracy. Nonetheless, we will continue with Gaussian Kernel as we could see better result and cheaper"
   ]
  },
  {
   "cell_type": "markdown",
   "metadata": {},
   "source": [
    "####    2) Gaussian : Tuning hyperparameters C and Gamma"
   ]
  },
  {
   "cell_type": "code",
   "execution_count": 26,
   "metadata": {},
   "outputs": [],
   "source": [
    "# With Random search we will try to find the best params\n",
    "# To start we need to find how to search for the best \n",
    "# hyper parameters of C and Gamma of the SVC classifier\n",
    "# For that we will run random search with a few training\\\n",
    "# examples. ( and in order to save time)\n",
    "from sklearn.model_selection import RandomizedSearchCV\n",
    "from scipy.stats import reciprocal, uniform\n",
    "from sklearn.preprocessing import PolynomialFeatures\n",
    "from sklearn.svm import SVC\n",
    "\n",
    "pipeline_pre = Pipeline([\n",
    "    #('poly_features', PolynomialFeatures(degree=3)),\n",
    "    ('scaler',StandardScaler()),\n",
    "    ('shift', Add_shifted_train(1)),\n",
    "    \n",
    "])\n",
    "\n",
    "\n",
    "X = pipeline_pre.fit_transform(X_train)"
   ]
  },
  {
   "cell_type": "code",
   "execution_count": 68,
   "metadata": {},
   "outputs": [
    {
     "name": "stdout",
     "output_type": "stream",
     "text": [
      "Fitting 5 folds for each of 10 candidates, totalling 50 fits\n",
      "[CV] C=8.415502205479687, gamma=0.017486313873340997 .................\n",
      "[CV] .. C=8.415502205479687, gamma=0.017486313873340997, total=   1.3s\n",
      "[CV] C=8.415502205479687, gamma=0.017486313873340997 .................\n"
     ]
    },
    {
     "name": "stderr",
     "output_type": "stream",
     "text": [
      "[Parallel(n_jobs=1)]: Done   1 out of   1 | elapsed:    2.0s remaining:    0.0s\n"
     ]
    },
    {
     "name": "stdout",
     "output_type": "stream",
     "text": [
      "[CV] .. C=8.415502205479687, gamma=0.017486313873340997, total=   1.3s\n",
      "[CV] C=8.415502205479687, gamma=0.017486313873340997 .................\n",
      "[CV] .. C=8.415502205479687, gamma=0.017486313873340997, total=   1.3s\n",
      "[CV] C=8.415502205479687, gamma=0.017486313873340997 .................\n",
      "[CV] .. C=8.415502205479687, gamma=0.017486313873340997, total=   1.3s\n",
      "[CV] C=8.415502205479687, gamma=0.017486313873340997 .................\n",
      "[CV] .. C=8.415502205479687, gamma=0.017486313873340997, total=   1.4s\n",
      "[CV] C=9.782810242382771, gamma=0.048413162660174654 .................\n",
      "[CV] .. C=9.782810242382771, gamma=0.048413162660174654, total=   1.3s\n",
      "[CV] C=9.782810242382771, gamma=0.048413162660174654 .................\n",
      "[CV] .. C=9.782810242382771, gamma=0.048413162660174654, total=   1.4s\n",
      "[CV] C=9.782810242382771, gamma=0.048413162660174654 .................\n",
      "[CV] .. C=9.782810242382771, gamma=0.048413162660174654, total=   1.4s\n",
      "[CV] C=9.782810242382771, gamma=0.048413162660174654 .................\n",
      "[CV] .. C=9.782810242382771, gamma=0.048413162660174654, total=   1.4s\n",
      "[CV] C=9.782810242382771, gamma=0.048413162660174654 .................\n",
      "[CV] .. C=9.782810242382771, gamma=0.048413162660174654, total=   1.5s\n",
      "[CV] C=5.9594314373024995, gamma=0.00516791367170093 .................\n",
      "[CV] .. C=5.9594314373024995, gamma=0.00516791367170093, total=   1.4s\n",
      "[CV] C=5.9594314373024995, gamma=0.00516791367170093 .................\n",
      "[CV] .. C=5.9594314373024995, gamma=0.00516791367170093, total=   1.6s\n",
      "[CV] C=5.9594314373024995, gamma=0.00516791367170093 .................\n",
      "[CV] .. C=5.9594314373024995, gamma=0.00516791367170093, total=   1.3s\n",
      "[CV] C=5.9594314373024995, gamma=0.00516791367170093 .................\n",
      "[CV] .. C=5.9594314373024995, gamma=0.00516791367170093, total=   1.3s\n",
      "[CV] C=5.9594314373024995, gamma=0.00516791367170093 .................\n",
      "[CV] .. C=5.9594314373024995, gamma=0.00516791367170093, total=   1.3s\n",
      "[CV] C=5.463408154307967, gamma=0.0015498744701773304 ................\n",
      "[CV] . C=5.463408154307967, gamma=0.0015498744701773304, total=   0.9s\n",
      "[CV] C=5.463408154307967, gamma=0.0015498744701773304 ................\n",
      "[CV] . C=5.463408154307967, gamma=0.0015498744701773304, total=   1.0s\n",
      "[CV] C=5.463408154307967, gamma=0.0015498744701773304 ................\n",
      "[CV] . C=5.463408154307967, gamma=0.0015498744701773304, total=   1.0s\n",
      "[CV] C=5.463408154307967, gamma=0.0015498744701773304 ................\n",
      "[CV] . C=5.463408154307967, gamma=0.0015498744701773304, total=   1.0s\n",
      "[CV] C=5.463408154307967, gamma=0.0015498744701773304 ................\n",
      "[CV] . C=5.463408154307967, gamma=0.0015498744701773304, total=   1.1s\n",
      "[CV] C=9.84077735126501, gamma=0.004240867321023448 ..................\n",
      "[CV] ... C=9.84077735126501, gamma=0.004240867321023448, total=   1.2s\n",
      "[CV] C=9.84077735126501, gamma=0.004240867321023448 ..................\n",
      "[CV] ... C=9.84077735126501, gamma=0.004240867321023448, total=   1.2s\n",
      "[CV] C=9.84077735126501, gamma=0.004240867321023448 ..................\n",
      "[CV] ... C=9.84077735126501, gamma=0.004240867321023448, total=   1.3s\n",
      "[CV] C=9.84077735126501, gamma=0.004240867321023448 ..................\n",
      "[CV] ... C=9.84077735126501, gamma=0.004240867321023448, total=   1.4s\n",
      "[CV] C=9.84077735126501, gamma=0.004240867321023448 ..................\n",
      "[CV] ... C=9.84077735126501, gamma=0.004240867321023448, total=   1.2s\n",
      "[CV] C=5.5489917537131594, gamma=0.04777591044260546 .................\n",
      "[CV] .. C=5.5489917537131594, gamma=0.04777591044260546, total=   1.3s\n",
      "[CV] C=5.5489917537131594, gamma=0.04777591044260546 .................\n",
      "[CV] .. C=5.5489917537131594, gamma=0.04777591044260546, total=   1.3s\n",
      "[CV] C=5.5489917537131594, gamma=0.04777591044260546 .................\n",
      "[CV] .. C=5.5489917537131594, gamma=0.04777591044260546, total=   1.4s\n",
      "[CV] C=5.5489917537131594, gamma=0.04777591044260546 .................\n",
      "[CV] .. C=5.5489917537131594, gamma=0.04777591044260546, total=   1.4s\n",
      "[CV] C=5.5489917537131594, gamma=0.04777591044260546 .................\n",
      "[CV] .. C=5.5489917537131594, gamma=0.04777591044260546, total=   1.4s\n",
      "[CV] C=6.895994496828961, gamma=0.003009635609491454 .................\n",
      "[CV] .. C=6.895994496828961, gamma=0.003009635609491454, total=   1.1s\n",
      "[CV] C=6.895994496828961, gamma=0.003009635609491454 .................\n",
      "[CV] .. C=6.895994496828961, gamma=0.003009635609491454, total=   1.1s\n",
      "[CV] C=6.895994496828961, gamma=0.003009635609491454 .................\n",
      "[CV] .. C=6.895994496828961, gamma=0.003009635609491454, total=   1.1s\n",
      "[CV] C=6.895994496828961, gamma=0.003009635609491454 .................\n",
      "[CV] .. C=6.895994496828961, gamma=0.003009635609491454, total=   1.1s\n",
      "[CV] C=6.895994496828961, gamma=0.003009635609491454 .................\n",
      "[CV] .. C=6.895994496828961, gamma=0.003009635609491454, total=   1.1s\n",
      "[CV] C=3.8773399857662243, gamma=0.0036788389297451023 ...............\n",
      "[CV]  C=3.8773399857662243, gamma=0.0036788389297451023, total=   1.2s\n",
      "[CV] C=3.8773399857662243, gamma=0.0036788389297451023 ...............\n",
      "[CV]  C=3.8773399857662243, gamma=0.0036788389297451023, total=   1.2s\n",
      "[CV] C=3.8773399857662243, gamma=0.0036788389297451023 ...............\n",
      "[CV]  C=3.8773399857662243, gamma=0.0036788389297451023, total=   1.2s\n",
      "[CV] C=3.8773399857662243, gamma=0.0036788389297451023 ...............\n",
      "[CV]  C=3.8773399857662243, gamma=0.0036788389297451023, total=   1.2s\n",
      "[CV] C=3.8773399857662243, gamma=0.0036788389297451023 ...............\n",
      "[CV]  C=3.8773399857662243, gamma=0.0036788389297451023, total=   1.2s\n",
      "[CV] C=9.133059494520879, gamma=0.05513414243783393 ..................\n",
      "[CV] ... C=9.133059494520879, gamma=0.05513414243783393, total=   1.4s\n",
      "[CV] C=9.133059494520879, gamma=0.05513414243783393 ..................\n",
      "[CV] ... C=9.133059494520879, gamma=0.05513414243783393, total=   1.4s\n",
      "[CV] C=9.133059494520879, gamma=0.05513414243783393 ..................\n",
      "[CV] ... C=9.133059494520879, gamma=0.05513414243783393, total=   1.4s\n",
      "[CV] C=9.133059494520879, gamma=0.05513414243783393 ..................\n",
      "[CV] ... C=9.133059494520879, gamma=0.05513414243783393, total=   1.4s\n",
      "[CV] C=9.133059494520879, gamma=0.05513414243783393 ..................\n",
      "[CV] ... C=9.133059494520879, gamma=0.05513414243783393, total=   1.5s\n",
      "[CV] C=10.625710158407882, gamma=0.04192763328725787 .................\n",
      "[CV] .. C=10.625710158407882, gamma=0.04192763328725787, total=   1.4s\n",
      "[CV] C=10.625710158407882, gamma=0.04192763328725787 .................\n",
      "[CV] .. C=10.625710158407882, gamma=0.04192763328725787, total=   1.4s\n",
      "[CV] C=10.625710158407882, gamma=0.04192763328725787 .................\n",
      "[CV] .. C=10.625710158407882, gamma=0.04192763328725787, total=   1.4s\n",
      "[CV] C=10.625710158407882, gamma=0.04192763328725787 .................\n",
      "[CV] .. C=10.625710158407882, gamma=0.04192763328725787, total=   1.4s\n",
      "[CV] C=10.625710158407882, gamma=0.04192763328725787 .................\n",
      "[CV] .. C=10.625710158407882, gamma=0.04192763328725787, total=   1.4s\n"
     ]
    },
    {
     "name": "stderr",
     "output_type": "stream",
     "text": [
      "[Parallel(n_jobs=1)]: Done  50 out of  50 | elapsed:  1.7min finished\n"
     ]
    },
    {
     "data": {
      "text/plain": [
       "RandomizedSearchCV(cv=5, error_score='raise',\n",
       "          estimator=SVC(C=1.0, cache_size=200, class_weight=None, coef0=0.0,\n",
       "  decision_function_shape='ovr', degree=3, gamma='auto', kernel='rbf',\n",
       "  max_iter=-1, probability=False, random_state=None, shrinking=True,\n",
       "  tol=0.001, verbose=False),\n",
       "          fit_params=None, iid=True, n_iter=10, n_jobs=1,\n",
       "          param_distributions={'C': <scipy.stats._distn_infrastructure.rv_frozen object at 0x000001F20DD5FB38>, 'gamma': <scipy.stats._distn_infrastructure.rv_frozen object at 0x000001F20DD5F668>},\n",
       "          pre_dispatch='2*n_jobs', random_state=None, refit=True,\n",
       "          return_train_score='warn', scoring='accuracy', verbose=2)"
      ]
     },
     "execution_count": 68,
     "metadata": {},
     "output_type": "execute_result"
    }
   ],
   "source": [
    "# We will chose values of C randomly from different ranges and narrow the range step by step\n",
    "# For tweaking gamma, we will change ranges, but use distribution of reciprocal discibuted exponentially\n",
    "\n",
    "param_distribs = {\n",
    "        'C': uniform(1, 10),\n",
    "        'gamma': reciprocal(0.001, 0.1),\n",
    "    }\n",
    "\n",
    "\n",
    "svc = SVC()\n",
    "\n",
    "rdn_search = RandomizedSearchCV(svc,param_distribs, cv=5, n_iter=10,scoring='accuracy', verbose=2)\n",
    "\n",
    "rdn_search.fit(X[:1000], y[:1000])"
   ]
  },
  {
   "cell_type": "code",
   "execution_count": 69,
   "metadata": {},
   "outputs": [
    {
     "data": {
      "text/html": [
       "<div>\n",
       "<style scoped>\n",
       "    .dataframe tbody tr th:only-of-type {\n",
       "        vertical-align: middle;\n",
       "    }\n",
       "\n",
       "    .dataframe tbody tr th {\n",
       "        vertical-align: top;\n",
       "    }\n",
       "\n",
       "    .dataframe thead th {\n",
       "        text-align: right;\n",
       "    }\n",
       "</style>\n",
       "<table border=\"1\" class=\"dataframe\">\n",
       "  <thead>\n",
       "    <tr style=\"text-align: right;\">\n",
       "      <th></th>\n",
       "      <th>mean_fit_time</th>\n",
       "      <th>mean_score_time</th>\n",
       "      <th>mean_test_score</th>\n",
       "      <th>mean_train_score</th>\n",
       "      <th>param_C</th>\n",
       "      <th>param_gamma</th>\n",
       "      <th>params</th>\n",
       "      <th>rank_test_score</th>\n",
       "      <th>split0_test_score</th>\n",
       "      <th>split0_train_score</th>\n",
       "      <th>...</th>\n",
       "      <th>split2_test_score</th>\n",
       "      <th>split2_train_score</th>\n",
       "      <th>split3_test_score</th>\n",
       "      <th>split3_train_score</th>\n",
       "      <th>split4_test_score</th>\n",
       "      <th>split4_train_score</th>\n",
       "      <th>std_fit_time</th>\n",
       "      <th>std_score_time</th>\n",
       "      <th>std_test_score</th>\n",
       "      <th>std_train_score</th>\n",
       "    </tr>\n",
       "  </thead>\n",
       "  <tbody>\n",
       "    <tr>\n",
       "      <th>0</th>\n",
       "      <td>1.274071</td>\n",
       "      <td>0.169740</td>\n",
       "      <td>0.399</td>\n",
       "      <td>1.0</td>\n",
       "      <td>8.4155</td>\n",
       "      <td>0.0174863</td>\n",
       "      <td>{'C': 8.415502205479687, 'gamma': 0.0174863138...</td>\n",
       "      <td>6</td>\n",
       "      <td>0.346341</td>\n",
       "      <td>1.0</td>\n",
       "      <td>...</td>\n",
       "      <td>0.395</td>\n",
       "      <td>1.0</td>\n",
       "      <td>0.454545</td>\n",
       "      <td>1.0</td>\n",
       "      <td>0.379487</td>\n",
       "      <td>1.0</td>\n",
       "      <td>0.008863</td>\n",
       "      <td>0.003094</td>\n",
       "      <td>0.036779</td>\n",
       "      <td>0.0</td>\n",
       "    </tr>\n",
       "    <tr>\n",
       "      <th>1</th>\n",
       "      <td>1.320910</td>\n",
       "      <td>0.180889</td>\n",
       "      <td>0.196</td>\n",
       "      <td>1.0</td>\n",
       "      <td>9.78281</td>\n",
       "      <td>0.0484132</td>\n",
       "      <td>{'C': 9.782810242382771, 'gamma': 0.0484131626...</td>\n",
       "      <td>8</td>\n",
       "      <td>0.195122</td>\n",
       "      <td>1.0</td>\n",
       "      <td>...</td>\n",
       "      <td>0.190</td>\n",
       "      <td>1.0</td>\n",
       "      <td>0.186869</td>\n",
       "      <td>1.0</td>\n",
       "      <td>0.205128</td>\n",
       "      <td>1.0</td>\n",
       "      <td>0.051212</td>\n",
       "      <td>0.004581</td>\n",
       "      <td>0.007066</td>\n",
       "      <td>0.0</td>\n",
       "    </tr>\n",
       "    <tr>\n",
       "      <th>2</th>\n",
       "      <td>1.293718</td>\n",
       "      <td>0.169341</td>\n",
       "      <td>0.766</td>\n",
       "      <td>1.0</td>\n",
       "      <td>5.95943</td>\n",
       "      <td>0.00516791</td>\n",
       "      <td>{'C': 5.9594314373024995, 'gamma': 0.005167913...</td>\n",
       "      <td>5</td>\n",
       "      <td>0.726829</td>\n",
       "      <td>1.0</td>\n",
       "      <td>...</td>\n",
       "      <td>0.760</td>\n",
       "      <td>1.0</td>\n",
       "      <td>0.823232</td>\n",
       "      <td>1.0</td>\n",
       "      <td>0.784615</td>\n",
       "      <td>1.0</td>\n",
       "      <td>0.105043</td>\n",
       "      <td>0.006517</td>\n",
       "      <td>0.034649</td>\n",
       "      <td>0.0</td>\n",
       "    </tr>\n",
       "    <tr>\n",
       "      <th>3</th>\n",
       "      <td>0.940283</td>\n",
       "      <td>0.148667</td>\n",
       "      <td>0.872</td>\n",
       "      <td>1.0</td>\n",
       "      <td>5.46341</td>\n",
       "      <td>0.00154987</td>\n",
       "      <td>{'C': 5.463408154307967, 'gamma': 0.0015498744...</td>\n",
       "      <td>1</td>\n",
       "      <td>0.839024</td>\n",
       "      <td>1.0</td>\n",
       "      <td>...</td>\n",
       "      <td>0.865</td>\n",
       "      <td>1.0</td>\n",
       "      <td>0.914141</td>\n",
       "      <td>1.0</td>\n",
       "      <td>0.897436</td>\n",
       "      <td>1.0</td>\n",
       "      <td>0.048245</td>\n",
       "      <td>0.005988</td>\n",
       "      <td>0.029009</td>\n",
       "      <td>0.0</td>\n",
       "    </tr>\n",
       "    <tr>\n",
       "      <th>4</th>\n",
       "      <td>1.204374</td>\n",
       "      <td>0.161550</td>\n",
       "      <td>0.796</td>\n",
       "      <td>1.0</td>\n",
       "      <td>9.84078</td>\n",
       "      <td>0.00424087</td>\n",
       "      <td>{'C': 9.84077735126501, 'gamma': 0.00424086732...</td>\n",
       "      <td>4</td>\n",
       "      <td>0.751220</td>\n",
       "      <td>1.0</td>\n",
       "      <td>...</td>\n",
       "      <td>0.785</td>\n",
       "      <td>1.0</td>\n",
       "      <td>0.843434</td>\n",
       "      <td>1.0</td>\n",
       "      <td>0.815385</td>\n",
       "      <td>1.0</td>\n",
       "      <td>0.071149</td>\n",
       "      <td>0.000570</td>\n",
       "      <td>0.031144</td>\n",
       "      <td>0.0</td>\n",
       "    </tr>\n",
       "    <tr>\n",
       "      <th>5</th>\n",
       "      <td>1.299693</td>\n",
       "      <td>0.177641</td>\n",
       "      <td>0.196</td>\n",
       "      <td>1.0</td>\n",
       "      <td>5.54899</td>\n",
       "      <td>0.0477759</td>\n",
       "      <td>{'C': 5.5489917537131594, 'gamma': 0.047775910...</td>\n",
       "      <td>8</td>\n",
       "      <td>0.195122</td>\n",
       "      <td>1.0</td>\n",
       "      <td>...</td>\n",
       "      <td>0.190</td>\n",
       "      <td>1.0</td>\n",
       "      <td>0.186869</td>\n",
       "      <td>1.0</td>\n",
       "      <td>0.205128</td>\n",
       "      <td>1.0</td>\n",
       "      <td>0.036129</td>\n",
       "      <td>0.004330</td>\n",
       "      <td>0.007066</td>\n",
       "      <td>0.0</td>\n",
       "    </tr>\n",
       "    <tr>\n",
       "      <th>6</th>\n",
       "      <td>1.068762</td>\n",
       "      <td>0.155053</td>\n",
       "      <td>0.836</td>\n",
       "      <td>1.0</td>\n",
       "      <td>6.89599</td>\n",
       "      <td>0.00300964</td>\n",
       "      <td>{'C': 6.895994496828961, 'gamma': 0.0030096356...</td>\n",
       "      <td>2</td>\n",
       "      <td>0.800000</td>\n",
       "      <td>1.0</td>\n",
       "      <td>...</td>\n",
       "      <td>0.830</td>\n",
       "      <td>1.0</td>\n",
       "      <td>0.873737</td>\n",
       "      <td>1.0</td>\n",
       "      <td>0.841026</td>\n",
       "      <td>1.0</td>\n",
       "      <td>0.010964</td>\n",
       "      <td>0.004554</td>\n",
       "      <td>0.023661</td>\n",
       "      <td>0.0</td>\n",
       "    </tr>\n",
       "    <tr>\n",
       "      <th>7</th>\n",
       "      <td>1.121702</td>\n",
       "      <td>0.158992</td>\n",
       "      <td>0.818</td>\n",
       "      <td>1.0</td>\n",
       "      <td>3.87734</td>\n",
       "      <td>0.00367884</td>\n",
       "      <td>{'C': 3.8773399857662243, 'gamma': 0.003678838...</td>\n",
       "      <td>3</td>\n",
       "      <td>0.785366</td>\n",
       "      <td>1.0</td>\n",
       "      <td>...</td>\n",
       "      <td>0.810</td>\n",
       "      <td>1.0</td>\n",
       "      <td>0.858586</td>\n",
       "      <td>1.0</td>\n",
       "      <td>0.825641</td>\n",
       "      <td>1.0</td>\n",
       "      <td>0.018193</td>\n",
       "      <td>0.006540</td>\n",
       "      <td>0.024005</td>\n",
       "      <td>0.0</td>\n",
       "    </tr>\n",
       "    <tr>\n",
       "      <th>8</th>\n",
       "      <td>1.336792</td>\n",
       "      <td>0.183907</td>\n",
       "      <td>0.194</td>\n",
       "      <td>1.0</td>\n",
       "      <td>9.13306</td>\n",
       "      <td>0.0551341</td>\n",
       "      <td>{'C': 9.133059494520879, 'gamma': 0.0551341424...</td>\n",
       "      <td>10</td>\n",
       "      <td>0.195122</td>\n",
       "      <td>1.0</td>\n",
       "      <td>...</td>\n",
       "      <td>0.190</td>\n",
       "      <td>1.0</td>\n",
       "      <td>0.181818</td>\n",
       "      <td>1.0</td>\n",
       "      <td>0.205128</td>\n",
       "      <td>1.0</td>\n",
       "      <td>0.029302</td>\n",
       "      <td>0.007013</td>\n",
       "      <td>0.007762</td>\n",
       "      <td>0.0</td>\n",
       "    </tr>\n",
       "    <tr>\n",
       "      <th>9</th>\n",
       "      <td>1.334691</td>\n",
       "      <td>0.176645</td>\n",
       "      <td>0.198</td>\n",
       "      <td>1.0</td>\n",
       "      <td>10.6257</td>\n",
       "      <td>0.0419276</td>\n",
       "      <td>{'C': 10.625710158407882, 'gamma': 0.041927633...</td>\n",
       "      <td>7</td>\n",
       "      <td>0.200000</td>\n",
       "      <td>1.0</td>\n",
       "      <td>...</td>\n",
       "      <td>0.190</td>\n",
       "      <td>1.0</td>\n",
       "      <td>0.186869</td>\n",
       "      <td>1.0</td>\n",
       "      <td>0.210256</td>\n",
       "      <td>1.0</td>\n",
       "      <td>0.031376</td>\n",
       "      <td>0.002233</td>\n",
       "      <td>0.008511</td>\n",
       "      <td>0.0</td>\n",
       "    </tr>\n",
       "  </tbody>\n",
       "</table>\n",
       "<p>10 rows × 22 columns</p>\n",
       "</div>"
      ],
      "text/plain": [
       "   mean_fit_time  mean_score_time  mean_test_score  mean_train_score  param_C  \\\n",
       "0       1.274071         0.169740            0.399               1.0   8.4155   \n",
       "1       1.320910         0.180889            0.196               1.0  9.78281   \n",
       "2       1.293718         0.169341            0.766               1.0  5.95943   \n",
       "3       0.940283         0.148667            0.872               1.0  5.46341   \n",
       "4       1.204374         0.161550            0.796               1.0  9.84078   \n",
       "5       1.299693         0.177641            0.196               1.0  5.54899   \n",
       "6       1.068762         0.155053            0.836               1.0  6.89599   \n",
       "7       1.121702         0.158992            0.818               1.0  3.87734   \n",
       "8       1.336792         0.183907            0.194               1.0  9.13306   \n",
       "9       1.334691         0.176645            0.198               1.0  10.6257   \n",
       "\n",
       "  param_gamma                                             params  \\\n",
       "0   0.0174863  {'C': 8.415502205479687, 'gamma': 0.0174863138...   \n",
       "1   0.0484132  {'C': 9.782810242382771, 'gamma': 0.0484131626...   \n",
       "2  0.00516791  {'C': 5.9594314373024995, 'gamma': 0.005167913...   \n",
       "3  0.00154987  {'C': 5.463408154307967, 'gamma': 0.0015498744...   \n",
       "4  0.00424087  {'C': 9.84077735126501, 'gamma': 0.00424086732...   \n",
       "5   0.0477759  {'C': 5.5489917537131594, 'gamma': 0.047775910...   \n",
       "6  0.00300964  {'C': 6.895994496828961, 'gamma': 0.0030096356...   \n",
       "7  0.00367884  {'C': 3.8773399857662243, 'gamma': 0.003678838...   \n",
       "8   0.0551341  {'C': 9.133059494520879, 'gamma': 0.0551341424...   \n",
       "9   0.0419276  {'C': 10.625710158407882, 'gamma': 0.041927633...   \n",
       "\n",
       "   rank_test_score  split0_test_score  split0_train_score       ...         \\\n",
       "0                6           0.346341                 1.0       ...          \n",
       "1                8           0.195122                 1.0       ...          \n",
       "2                5           0.726829                 1.0       ...          \n",
       "3                1           0.839024                 1.0       ...          \n",
       "4                4           0.751220                 1.0       ...          \n",
       "5                8           0.195122                 1.0       ...          \n",
       "6                2           0.800000                 1.0       ...          \n",
       "7                3           0.785366                 1.0       ...          \n",
       "8               10           0.195122                 1.0       ...          \n",
       "9                7           0.200000                 1.0       ...          \n",
       "\n",
       "   split2_test_score  split2_train_score  split3_test_score  \\\n",
       "0              0.395                 1.0           0.454545   \n",
       "1              0.190                 1.0           0.186869   \n",
       "2              0.760                 1.0           0.823232   \n",
       "3              0.865                 1.0           0.914141   \n",
       "4              0.785                 1.0           0.843434   \n",
       "5              0.190                 1.0           0.186869   \n",
       "6              0.830                 1.0           0.873737   \n",
       "7              0.810                 1.0           0.858586   \n",
       "8              0.190                 1.0           0.181818   \n",
       "9              0.190                 1.0           0.186869   \n",
       "\n",
       "   split3_train_score  split4_test_score  split4_train_score  std_fit_time  \\\n",
       "0                 1.0           0.379487                 1.0      0.008863   \n",
       "1                 1.0           0.205128                 1.0      0.051212   \n",
       "2                 1.0           0.784615                 1.0      0.105043   \n",
       "3                 1.0           0.897436                 1.0      0.048245   \n",
       "4                 1.0           0.815385                 1.0      0.071149   \n",
       "5                 1.0           0.205128                 1.0      0.036129   \n",
       "6                 1.0           0.841026                 1.0      0.010964   \n",
       "7                 1.0           0.825641                 1.0      0.018193   \n",
       "8                 1.0           0.205128                 1.0      0.029302   \n",
       "9                 1.0           0.210256                 1.0      0.031376   \n",
       "\n",
       "   std_score_time  std_test_score  std_train_score  \n",
       "0        0.003094        0.036779              0.0  \n",
       "1        0.004581        0.007066              0.0  \n",
       "2        0.006517        0.034649              0.0  \n",
       "3        0.005988        0.029009              0.0  \n",
       "4        0.000570        0.031144              0.0  \n",
       "5        0.004330        0.007066              0.0  \n",
       "6        0.004554        0.023661              0.0  \n",
       "7        0.006540        0.024005              0.0  \n",
       "8        0.007013        0.007762              0.0  \n",
       "9        0.002233        0.008511              0.0  \n",
       "\n",
       "[10 rows x 22 columns]"
      ]
     },
     "execution_count": 69,
     "metadata": {},
     "output_type": "execute_result"
    }
   ],
   "source": [
    "DataFrame(rdn_search.cv_results_)"
   ]
  },
  {
   "cell_type": "code",
   "execution_count": 70,
   "metadata": {},
   "outputs": [
    {
     "data": {
      "text/plain": [
       "SVC(C=5.463408154307967, cache_size=200, class_weight=None, coef0=0.0,\n",
       "  decision_function_shape='ovr', degree=3, gamma=0.0015498744701773304,\n",
       "  kernel='rbf', max_iter=-1, probability=False, random_state=None,\n",
       "  shrinking=True, tol=0.001, verbose=False)"
      ]
     },
     "execution_count": 70,
     "metadata": {},
     "output_type": "execute_result"
    }
   ],
   "source": [
    "rdn_search.best_estimator_"
   ]
  },
  {
   "cell_type": "code",
   "execution_count": 71,
   "metadata": {},
   "outputs": [
    {
     "data": {
      "text/plain": [
       "0.872"
      ]
     },
     "execution_count": 71,
     "metadata": {},
     "output_type": "execute_result"
    }
   ],
   "source": [
    "rdn_search.best_score_"
   ]
  },
  {
   "cell_type": "markdown",
   "metadata": {},
   "source": [
    "This score will be a first benchmark to check a wide range for C and Gamma parameters\n",
    "\n",
    "Now we will check if by increasing C we can improve substantially the score with only 1000 training set"
   ]
  },
  {
   "cell_type": "code",
   "execution_count": 65,
   "metadata": {
    "scrolled": true
   },
   "outputs": [
    {
     "name": "stdout",
     "output_type": "stream",
     "text": [
      "Fitting 5 folds for each of 10 candidates, totalling 50 fits\n",
      "[CV] C=64480.11637341516, gamma=0.016233134941037092 .................\n",
      "[CV] .. C=64480.11637341516, gamma=0.016233134941037092, total=   1.4s\n",
      "[CV] C=64480.11637341516, gamma=0.016233134941037092 .................\n"
     ]
    },
    {
     "name": "stderr",
     "output_type": "stream",
     "text": [
      "[Parallel(n_jobs=1)]: Done   1 out of   1 | elapsed:    2.1s remaining:    0.0s\n"
     ]
    },
    {
     "name": "stdout",
     "output_type": "stream",
     "text": [
      "[CV] .. C=64480.11637341516, gamma=0.016233134941037092, total=   1.3s\n",
      "[CV] C=64480.11637341516, gamma=0.016233134941037092 .................\n",
      "[CV] .. C=64480.11637341516, gamma=0.016233134941037092, total=   1.3s\n",
      "[CV] C=64480.11637341516, gamma=0.016233134941037092 .................\n",
      "[CV] .. C=64480.11637341516, gamma=0.016233134941037092, total=   1.4s\n",
      "[CV] C=64480.11637341516, gamma=0.016233134941037092 .................\n",
      "[CV] .. C=64480.11637341516, gamma=0.016233134941037092, total=   1.5s\n",
      "[CV] C=12659.027895356634, gamma=0.0037775440672648806 ...............\n",
      "[CV]  C=12659.027895356634, gamma=0.0037775440672648806, total=   1.2s\n",
      "[CV] C=12659.027895356634, gamma=0.0037775440672648806 ...............\n",
      "[CV]  C=12659.027895356634, gamma=0.0037775440672648806, total=   1.2s\n",
      "[CV] C=12659.027895356634, gamma=0.0037775440672648806 ...............\n",
      "[CV]  C=12659.027895356634, gamma=0.0037775440672648806, total=   1.2s\n",
      "[CV] C=12659.027895356634, gamma=0.0037775440672648806 ...............\n",
      "[CV]  C=12659.027895356634, gamma=0.0037775440672648806, total=   1.2s\n",
      "[CV] C=12659.027895356634, gamma=0.0037775440672648806 ...............\n",
      "[CV]  C=12659.027895356634, gamma=0.0037775440672648806, total=   1.2s\n",
      "[CV] C=90725.08624007792, gamma=0.023041831946380605 .................\n",
      "[CV] .. C=90725.08624007792, gamma=0.023041831946380605, total=   1.4s\n",
      "[CV] C=90725.08624007792, gamma=0.023041831946380605 .................\n",
      "[CV] .. C=90725.08624007792, gamma=0.023041831946380605, total=   1.4s\n",
      "[CV] C=90725.08624007792, gamma=0.023041831946380605 .................\n",
      "[CV] .. C=90725.08624007792, gamma=0.023041831946380605, total=   1.4s\n",
      "[CV] C=90725.08624007792, gamma=0.023041831946380605 .................\n",
      "[CV] .. C=90725.08624007792, gamma=0.023041831946380605, total=   1.4s\n",
      "[CV] C=90725.08624007792, gamma=0.023041831946380605 .................\n",
      "[CV] .. C=90725.08624007792, gamma=0.023041831946380605, total=   1.4s\n",
      "[CV] C=53064.24326615905, gamma=0.01743737625676055 ..................\n",
      "[CV] ... C=53064.24326615905, gamma=0.01743737625676055, total=   1.3s\n",
      "[CV] C=53064.24326615905, gamma=0.01743737625676055 ..................\n",
      "[CV] ... C=53064.24326615905, gamma=0.01743737625676055, total=   1.4s\n",
      "[CV] C=53064.24326615905, gamma=0.01743737625676055 ..................\n",
      "[CV] ... C=53064.24326615905, gamma=0.01743737625676055, total=   1.4s\n",
      "[CV] C=53064.24326615905, gamma=0.01743737625676055 ..................\n",
      "[CV] ... C=53064.24326615905, gamma=0.01743737625676055, total=   1.4s\n",
      "[CV] C=53064.24326615905, gamma=0.01743737625676055 ..................\n",
      "[CV] ... C=53064.24326615905, gamma=0.01743737625676055, total=   1.4s\n",
      "[CV] C=5210.794947941188, gamma=0.009337411841672265 .................\n",
      "[CV] .. C=5210.794947941188, gamma=0.009337411841672265, total=   1.3s\n",
      "[CV] C=5210.794947941188, gamma=0.009337411841672265 .................\n",
      "[CV] .. C=5210.794947941188, gamma=0.009337411841672265, total=   1.3s\n",
      "[CV] C=5210.794947941188, gamma=0.009337411841672265 .................\n",
      "[CV] .. C=5210.794947941188, gamma=0.009337411841672265, total=   1.4s\n",
      "[CV] C=5210.794947941188, gamma=0.009337411841672265 .................\n",
      "[CV] .. C=5210.794947941188, gamma=0.009337411841672265, total=   1.3s\n",
      "[CV] C=5210.794947941188, gamma=0.009337411841672265 .................\n",
      "[CV] .. C=5210.794947941188, gamma=0.009337411841672265, total=   1.4s\n",
      "[CV] C=92870.07131094114, gamma=0.06829858918717464 ..................\n",
      "[CV] ... C=92870.07131094114, gamma=0.06829858918717464, total=   1.4s\n",
      "[CV] C=92870.07131094114, gamma=0.06829858918717464 ..................\n",
      "[CV] ... C=92870.07131094114, gamma=0.06829858918717464, total=   1.4s\n",
      "[CV] C=92870.07131094114, gamma=0.06829858918717464 ..................\n",
      "[CV] ... C=92870.07131094114, gamma=0.06829858918717464, total=   1.4s\n",
      "[CV] C=92870.07131094114, gamma=0.06829858918717464 ..................\n",
      "[CV] ... C=92870.07131094114, gamma=0.06829858918717464, total=   1.4s\n",
      "[CV] C=92870.07131094114, gamma=0.06829858918717464 ..................\n",
      "[CV] ... C=92870.07131094114, gamma=0.06829858918717464, total=   1.4s\n",
      "[CV] C=53683.28615943812, gamma=0.006160569055882881 .................\n",
      "[CV] .. C=53683.28615943812, gamma=0.006160569055882881, total=   1.4s\n",
      "[CV] C=53683.28615943812, gamma=0.006160569055882881 .................\n",
      "[CV] .. C=53683.28615943812, gamma=0.006160569055882881, total=   1.3s\n",
      "[CV] C=53683.28615943812, gamma=0.006160569055882881 .................\n",
      "[CV] .. C=53683.28615943812, gamma=0.006160569055882881, total=   1.3s\n",
      "[CV] C=53683.28615943812, gamma=0.006160569055882881 .................\n",
      "[CV] .. C=53683.28615943812, gamma=0.006160569055882881, total=   1.3s\n",
      "[CV] C=53683.28615943812, gamma=0.006160569055882881 .................\n",
      "[CV] .. C=53683.28615943812, gamma=0.006160569055882881, total=   1.3s\n",
      "[CV] C=21930.849438745157, gamma=0.005118858748572998 ................\n",
      "[CV] . C=21930.849438745157, gamma=0.005118858748572998, total=   1.2s\n",
      "[CV] C=21930.849438745157, gamma=0.005118858748572998 ................\n",
      "[CV] . C=21930.849438745157, gamma=0.005118858748572998, total=   1.3s\n",
      "[CV] C=21930.849438745157, gamma=0.005118858748572998 ................\n",
      "[CV] . C=21930.849438745157, gamma=0.005118858748572998, total=   1.3s\n",
      "[CV] C=21930.849438745157, gamma=0.005118858748572998 ................\n",
      "[CV] . C=21930.849438745157, gamma=0.005118858748572998, total=   1.3s\n",
      "[CV] C=21930.849438745157, gamma=0.005118858748572998 ................\n",
      "[CV] . C=21930.849438745157, gamma=0.005118858748572998, total=   1.3s\n",
      "[CV] C=51817.93244987299, gamma=0.0016111042891862927 ................\n",
      "[CV] . C=51817.93244987299, gamma=0.0016111042891862927, total=   1.0s\n",
      "[CV] C=51817.93244987299, gamma=0.0016111042891862927 ................\n",
      "[CV] . C=51817.93244987299, gamma=0.0016111042891862927, total=   1.0s\n",
      "[CV] C=51817.93244987299, gamma=0.0016111042891862927 ................\n",
      "[CV] . C=51817.93244987299, gamma=0.0016111042891862927, total=   1.0s\n",
      "[CV] C=51817.93244987299, gamma=0.0016111042891862927 ................\n",
      "[CV] . C=51817.93244987299, gamma=0.0016111042891862927, total=   1.0s\n",
      "[CV] C=51817.93244987299, gamma=0.0016111042891862927 ................\n",
      "[CV] . C=51817.93244987299, gamma=0.0016111042891862927, total=   1.0s\n",
      "[CV] C=19586.626452417753, gamma=0.016105518812929747 ................\n",
      "[CV] . C=19586.626452417753, gamma=0.016105518812929747, total=   1.4s\n",
      "[CV] C=19586.626452417753, gamma=0.016105518812929747 ................\n",
      "[CV] . C=19586.626452417753, gamma=0.016105518812929747, total=   1.4s\n",
      "[CV] C=19586.626452417753, gamma=0.016105518812929747 ................\n",
      "[CV] . C=19586.626452417753, gamma=0.016105518812929747, total=   1.5s\n",
      "[CV] C=19586.626452417753, gamma=0.016105518812929747 ................\n",
      "[CV] . C=19586.626452417753, gamma=0.016105518812929747, total=   1.4s\n",
      "[CV] C=19586.626452417753, gamma=0.016105518812929747 ................\n",
      "[CV] . C=19586.626452417753, gamma=0.016105518812929747, total=   1.4s\n"
     ]
    },
    {
     "name": "stderr",
     "output_type": "stream",
     "text": [
      "[Parallel(n_jobs=1)]: Done  50 out of  50 | elapsed:  1.7min finished\n"
     ]
    },
    {
     "data": {
      "text/plain": [
       "RandomizedSearchCV(cv=5, error_score='raise',\n",
       "          estimator=SVC(C=1.0, cache_size=200, class_weight=None, coef0=0.0,\n",
       "  decision_function_shape='ovr', degree=3, gamma='auto', kernel='rbf',\n",
       "  max_iter=-1, probability=False, random_state=None, shrinking=True,\n",
       "  tol=0.001, verbose=False),\n",
       "          fit_params=None, iid=True, n_iter=10, n_jobs=1,\n",
       "          param_distributions={'C': <scipy.stats._distn_infrastructure.rv_frozen object at 0x000001F20D8AE518>, 'gamma': <scipy.stats._distn_infrastructure.rv_frozen object at 0x000001F20D8AE860>},\n",
       "          pre_dispatch='2*n_jobs', random_state=None, refit=True,\n",
       "          return_train_score='warn', scoring='accuracy', verbose=2)"
      ]
     },
     "execution_count": 65,
     "metadata": {},
     "output_type": "execute_result"
    }
   ],
   "source": [
    "param_distribs = {\n",
    "        'C': uniform(100, 100000),\n",
    "        'gamma': reciprocal(0.001, 0.1),\n",
    "    }\n",
    "\n",
    "\n",
    "svc = SVC()\n",
    "\n",
    "rdn_search = RandomizedSearchCV(svc,param_distribs, cv=5, n_iter=10,scoring='accuracy', verbose=2)\n",
    "\n",
    "rdn_search.fit(X[:1000], y[:1000])"
   ]
  },
  {
   "cell_type": "code",
   "execution_count": 66,
   "metadata": {},
   "outputs": [
    {
     "data": {
      "text/plain": [
       "SVC(C=51817.93244987299, cache_size=200, class_weight=None, coef0=0.0,\n",
       "  decision_function_shape='ovr', degree=3, gamma=0.0016111042891862927,\n",
       "  kernel='rbf', max_iter=-1, probability=False, random_state=None,\n",
       "  shrinking=True, tol=0.001, verbose=False)"
      ]
     },
     "execution_count": 66,
     "metadata": {},
     "output_type": "execute_result"
    }
   ],
   "source": [
    "rdn_search.best_estimator_"
   ]
  },
  {
   "cell_type": "code",
   "execution_count": 67,
   "metadata": {},
   "outputs": [
    {
     "data": {
      "text/plain": [
       "0.872"
      ]
     },
     "execution_count": 67,
     "metadata": {},
     "output_type": "execute_result"
    }
   ],
   "source": [
    "rdn_search.best_score_"
   ]
  },
  {
   "cell_type": "markdown",
   "metadata": {},
   "source": [
    "We see here that we don't improve the score by increasing C above 100\n",
    "\n",
    "Now let's see if score can get better by taking gammma values between 1 and 100:"
   ]
  },
  {
   "cell_type": "code",
   "execution_count": 72,
   "metadata": {},
   "outputs": [
    {
     "name": "stdout",
     "output_type": "stream",
     "text": [
      "Fitting 5 folds for each of 10 candidates, totalling 50 fits\n",
      "[CV] C=4.708948297658864, gamma=5.074169529214468 ....................\n",
      "[CV] ..... C=4.708948297658864, gamma=5.074169529214468, total=   1.4s\n",
      "[CV] C=4.708948297658864, gamma=5.074169529214468 ....................\n"
     ]
    },
    {
     "name": "stderr",
     "output_type": "stream",
     "text": [
      "[Parallel(n_jobs=1)]: Done   1 out of   1 | elapsed:    2.1s remaining:    0.0s\n"
     ]
    },
    {
     "name": "stdout",
     "output_type": "stream",
     "text": [
      "[CV] ..... C=4.708948297658864, gamma=5.074169529214468, total=   1.4s\n",
      "[CV] C=4.708948297658864, gamma=5.074169529214468 ....................\n",
      "[CV] ..... C=4.708948297658864, gamma=5.074169529214468, total=   1.5s\n",
      "[CV] C=4.708948297658864, gamma=5.074169529214468 ....................\n",
      "[CV] ..... C=4.708948297658864, gamma=5.074169529214468, total=   1.5s\n",
      "[CV] C=4.708948297658864, gamma=5.074169529214468 ....................\n",
      "[CV] ..... C=4.708948297658864, gamma=5.074169529214468, total=   1.4s\n",
      "[CV] C=1.9270286877539768, gamma=17.036143699642512 ..................\n",
      "[CV] ... C=1.9270286877539768, gamma=17.036143699642512, total=   1.4s\n",
      "[CV] C=1.9270286877539768, gamma=17.036143699642512 ..................\n",
      "[CV] ... C=1.9270286877539768, gamma=17.036143699642512, total=   1.4s\n",
      "[CV] C=1.9270286877539768, gamma=17.036143699642512 ..................\n",
      "[CV] ... C=1.9270286877539768, gamma=17.036143699642512, total=   1.4s\n",
      "[CV] C=1.9270286877539768, gamma=17.036143699642512 ..................\n",
      "[CV] ... C=1.9270286877539768, gamma=17.036143699642512, total=   1.4s\n",
      "[CV] C=1.9270286877539768, gamma=17.036143699642512 ..................\n",
      "[CV] ... C=1.9270286877539768, gamma=17.036143699642512, total=   1.6s\n",
      "[CV] C=6.905796521480973, gamma=1.5449649404298174 ...................\n",
      "[CV] .... C=6.905796521480973, gamma=1.5449649404298174, total=   1.5s\n",
      "[CV] C=6.905796521480973, gamma=1.5449649404298174 ...................\n",
      "[CV] .... C=6.905796521480973, gamma=1.5449649404298174, total=   1.5s\n",
      "[CV] C=6.905796521480973, gamma=1.5449649404298174 ...................\n",
      "[CV] .... C=6.905796521480973, gamma=1.5449649404298174, total=   1.5s\n",
      "[CV] C=6.905796521480973, gamma=1.5449649404298174 ...................\n",
      "[CV] .... C=6.905796521480973, gamma=1.5449649404298174, total=   1.4s\n",
      "[CV] C=6.905796521480973, gamma=1.5449649404298174 ...................\n",
      "[CV] .... C=6.905796521480973, gamma=1.5449649404298174, total=   1.4s\n",
      "[CV] C=1.795707088526637, gamma=7.905572573740162 ....................\n",
      "[CV] ..... C=1.795707088526637, gamma=7.905572573740162, total=   1.4s\n",
      "[CV] C=1.795707088526637, gamma=7.905572573740162 ....................\n",
      "[CV] ..... C=1.795707088526637, gamma=7.905572573740162, total=   1.4s\n",
      "[CV] C=1.795707088526637, gamma=7.905572573740162 ....................\n",
      "[CV] ..... C=1.795707088526637, gamma=7.905572573740162, total=   1.4s\n",
      "[CV] C=1.795707088526637, gamma=7.905572573740162 ....................\n",
      "[CV] ..... C=1.795707088526637, gamma=7.905572573740162, total=   1.4s\n",
      "[CV] C=1.795707088526637, gamma=7.905572573740162 ....................\n",
      "[CV] ..... C=1.795707088526637, gamma=7.905572573740162, total=   1.4s\n",
      "[CV] C=1.5737201032304662, gamma=15.719936239067104 ..................\n",
      "[CV] ... C=1.5737201032304662, gamma=15.719936239067104, total=   1.4s\n",
      "[CV] C=1.5737201032304662, gamma=15.719936239067104 ..................\n",
      "[CV] ... C=1.5737201032304662, gamma=15.719936239067104, total=   1.4s\n",
      "[CV] C=1.5737201032304662, gamma=15.719936239067104 ..................\n",
      "[CV] ... C=1.5737201032304662, gamma=15.719936239067104, total=   1.4s\n",
      "[CV] C=1.5737201032304662, gamma=15.719936239067104 ..................\n",
      "[CV] ... C=1.5737201032304662, gamma=15.719936239067104, total=   1.4s\n",
      "[CV] C=1.5737201032304662, gamma=15.719936239067104 ..................\n",
      "[CV] ... C=1.5737201032304662, gamma=15.719936239067104, total=   1.4s\n",
      "[CV] C=1.6026939423186661, gamma=66.93864026767595 ...................\n",
      "[CV] .... C=1.6026939423186661, gamma=66.93864026767595, total=   1.4s\n",
      "[CV] C=1.6026939423186661, gamma=66.93864026767595 ...................\n",
      "[CV] .... C=1.6026939423186661, gamma=66.93864026767595, total=   1.4s\n",
      "[CV] C=1.6026939423186661, gamma=66.93864026767595 ...................\n",
      "[CV] .... C=1.6026939423186661, gamma=66.93864026767595, total=   1.4s\n",
      "[CV] C=1.6026939423186661, gamma=66.93864026767595 ...................\n",
      "[CV] .... C=1.6026939423186661, gamma=66.93864026767595, total=   1.4s\n",
      "[CV] C=1.6026939423186661, gamma=66.93864026767595 ...................\n",
      "[CV] .... C=1.6026939423186661, gamma=66.93864026767595, total=   1.4s\n",
      "[CV] C=7.005576806617302, gamma=2.1826608136005206 ...................\n",
      "[CV] .... C=7.005576806617302, gamma=2.1826608136005206, total=   1.4s\n",
      "[CV] C=7.005576806617302, gamma=2.1826608136005206 ...................\n",
      "[CV] .... C=7.005576806617302, gamma=2.1826608136005206, total=   1.5s\n",
      "[CV] C=7.005576806617302, gamma=2.1826608136005206 ...................\n",
      "[CV] .... C=7.005576806617302, gamma=2.1826608136005206, total=   1.5s\n",
      "[CV] C=7.005576806617302, gamma=2.1826608136005206 ...................\n",
      "[CV] .... C=7.005576806617302, gamma=2.1826608136005206, total=   1.4s\n",
      "[CV] C=7.005576806617302, gamma=2.1826608136005206 ...................\n",
      "[CV] .... C=7.005576806617302, gamma=2.1826608136005206, total=   1.4s\n",
      "[CV] C=3.1220864114942395, gamma=33.701897361541334 ..................\n",
      "[CV] ... C=3.1220864114942395, gamma=33.701897361541334, total=   1.4s\n",
      "[CV] C=3.1220864114942395, gamma=33.701897361541334 ..................\n",
      "[CV] ... C=3.1220864114942395, gamma=33.701897361541334, total=   1.5s\n",
      "[CV] C=3.1220864114942395, gamma=33.701897361541334 ..................\n",
      "[CV] ... C=3.1220864114942395, gamma=33.701897361541334, total=   1.4s\n",
      "[CV] C=3.1220864114942395, gamma=33.701897361541334 ..................\n",
      "[CV] ... C=3.1220864114942395, gamma=33.701897361541334, total=   1.4s\n",
      "[CV] C=3.1220864114942395, gamma=33.701897361541334 ..................\n",
      "[CV] ... C=3.1220864114942395, gamma=33.701897361541334, total=   1.5s\n",
      "[CV] C=10.067843506978612, gamma=4.855744948808233 ...................\n",
      "[CV] .... C=10.067843506978612, gamma=4.855744948808233, total=   1.4s\n",
      "[CV] C=10.067843506978612, gamma=4.855744948808233 ...................\n",
      "[CV] .... C=10.067843506978612, gamma=4.855744948808233, total=   1.4s\n",
      "[CV] C=10.067843506978612, gamma=4.855744948808233 ...................\n",
      "[CV] .... C=10.067843506978612, gamma=4.855744948808233, total=   1.4s\n",
      "[CV] C=10.067843506978612, gamma=4.855744948808233 ...................\n",
      "[CV] .... C=10.067843506978612, gamma=4.855744948808233, total=   1.5s\n",
      "[CV] C=10.067843506978612, gamma=4.855744948808233 ...................\n",
      "[CV] .... C=10.067843506978612, gamma=4.855744948808233, total=   1.4s\n",
      "[CV] C=6.9896264283811025, gamma=36.88429308473249 ...................\n",
      "[CV] .... C=6.9896264283811025, gamma=36.88429308473249, total=   1.4s\n",
      "[CV] C=6.9896264283811025, gamma=36.88429308473249 ...................\n",
      "[CV] .... C=6.9896264283811025, gamma=36.88429308473249, total=   1.4s\n",
      "[CV] C=6.9896264283811025, gamma=36.88429308473249 ...................\n",
      "[CV] .... C=6.9896264283811025, gamma=36.88429308473249, total=   1.5s\n",
      "[CV] C=6.9896264283811025, gamma=36.88429308473249 ...................\n",
      "[CV] .... C=6.9896264283811025, gamma=36.88429308473249, total=   1.4s\n",
      "[CV] C=6.9896264283811025, gamma=36.88429308473249 ...................\n",
      "[CV] .... C=6.9896264283811025, gamma=36.88429308473249, total=   1.4s\n"
     ]
    },
    {
     "name": "stderr",
     "output_type": "stream",
     "text": [
      "[Parallel(n_jobs=1)]: Done  50 out of  50 | elapsed:  1.9min finished\n"
     ]
    },
    {
     "data": {
      "text/plain": [
       "RandomizedSearchCV(cv=5, error_score='raise',\n",
       "          estimator=SVC(C=1.0, cache_size=200, class_weight=None, coef0=0.0,\n",
       "  decision_function_shape='ovr', degree=3, gamma='auto', kernel='rbf',\n",
       "  max_iter=-1, probability=False, random_state=None, shrinking=True,\n",
       "  tol=0.001, verbose=False),\n",
       "          fit_params=None, iid=True, n_iter=10, n_jobs=1,\n",
       "          param_distributions={'C': <scipy.stats._distn_infrastructure.rv_frozen object at 0x000001F20DD5F160>, 'gamma': <scipy.stats._distn_infrastructure.rv_frozen object at 0x000001F20D89CA90>},\n",
       "          pre_dispatch='2*n_jobs', random_state=None, refit=True,\n",
       "          return_train_score='warn', scoring='accuracy', verbose=2)"
      ]
     },
     "execution_count": 72,
     "metadata": {},
     "output_type": "execute_result"
    }
   ],
   "source": [
    "param_distribs = {\n",
    "        'C': uniform(1, 10),\n",
    "        'gamma': reciprocal(1, 100),\n",
    "    }\n",
    "\n",
    "\n",
    "svc = SVC()\n",
    "\n",
    "rdn_search = RandomizedSearchCV(svc,param_distribs, cv=5, n_iter=10,scoring='accuracy', verbose=2)\n",
    "\n",
    "rdn_search.fit(X[:1000], y[:1000])"
   ]
  },
  {
   "cell_type": "code",
   "execution_count": 73,
   "metadata": {},
   "outputs": [
    {
     "data": {
      "text/plain": [
       "SVC(C=4.708948297658864, cache_size=200, class_weight=None, coef0=0.0,\n",
       "  decision_function_shape='ovr', degree=3, gamma=5.074169529214468,\n",
       "  kernel='rbf', max_iter=-1, probability=False, random_state=None,\n",
       "  shrinking=True, tol=0.001, verbose=False)"
      ]
     },
     "execution_count": 73,
     "metadata": {},
     "output_type": "execute_result"
    }
   ],
   "source": [
    "rdn_search.best_estimator_"
   ]
  },
  {
   "cell_type": "code",
   "execution_count": 74,
   "metadata": {},
   "outputs": [
    {
     "data": {
      "text/plain": [
       "0.116"
      ]
     },
     "execution_count": 74,
     "metadata": {},
     "output_type": "execute_result"
    }
   ],
   "source": [
    "rdn_search.best_score_"
   ]
  },
  {
   "cell_type": "markdown",
   "metadata": {},
   "source": [
    "It seems to be a terrible idea to increase Gamma, so we will try to improve with values close to 0 now."
   ]
  },
  {
   "cell_type": "code",
   "execution_count": 75,
   "metadata": {},
   "outputs": [
    {
     "name": "stdout",
     "output_type": "stream",
     "text": [
      "Fitting 5 folds for each of 10 candidates, totalling 50 fits\n",
      "[CV] C=9.159393411033234, gamma=3.8678557192978204e-07 ...............\n",
      "[CV]  C=9.159393411033234, gamma=3.8678557192978204e-07, total=   1.3s\n",
      "[CV] C=9.159393411033234, gamma=3.8678557192978204e-07 ...............\n"
     ]
    },
    {
     "name": "stderr",
     "output_type": "stream",
     "text": [
      "[Parallel(n_jobs=1)]: Done   1 out of   1 | elapsed:    2.0s remaining:    0.0s\n"
     ]
    },
    {
     "name": "stdout",
     "output_type": "stream",
     "text": [
      "[CV]  C=9.159393411033234, gamma=3.8678557192978204e-07, total=   1.4s\n",
      "[CV] C=9.159393411033234, gamma=3.8678557192978204e-07 ...............\n",
      "[CV]  C=9.159393411033234, gamma=3.8678557192978204e-07, total=   1.3s\n",
      "[CV] C=9.159393411033234, gamma=3.8678557192978204e-07 ...............\n",
      "[CV]  C=9.159393411033234, gamma=3.8678557192978204e-07, total=   1.3s\n",
      "[CV] C=9.159393411033234, gamma=3.8678557192978204e-07 ...............\n",
      "[CV]  C=9.159393411033234, gamma=3.8678557192978204e-07, total=   1.4s\n",
      "[CV] C=4.790713199032196, gamma=2.1437041764760834e-05 ...............\n",
      "[CV]  C=4.790713199032196, gamma=2.1437041764760834e-05, total=   1.0s\n",
      "[CV] C=4.790713199032196, gamma=2.1437041764760834e-05 ...............\n",
      "[CV]  C=4.790713199032196, gamma=2.1437041764760834e-05, total=   1.0s\n",
      "[CV] C=4.790713199032196, gamma=2.1437041764760834e-05 ...............\n",
      "[CV]  C=4.790713199032196, gamma=2.1437041764760834e-05, total=   1.1s\n",
      "[CV] C=4.790713199032196, gamma=2.1437041764760834e-05 ...............\n",
      "[CV]  C=4.790713199032196, gamma=2.1437041764760834e-05, total=   1.1s\n",
      "[CV] C=4.790713199032196, gamma=2.1437041764760834e-05 ...............\n",
      "[CV]  C=4.790713199032196, gamma=2.1437041764760834e-05, total=   1.1s\n",
      "[CV] C=5.693856550432022, gamma=1.2059082622556384e-06 ...............\n",
      "[CV]  C=5.693856550432022, gamma=1.2059082622556384e-06, total=   1.4s\n",
      "[CV] C=5.693856550432022, gamma=1.2059082622556384e-06 ...............\n",
      "[CV]  C=5.693856550432022, gamma=1.2059082622556384e-06, total=   1.4s\n",
      "[CV] C=5.693856550432022, gamma=1.2059082622556384e-06 ...............\n",
      "[CV]  C=5.693856550432022, gamma=1.2059082622556384e-06, total=   1.3s\n",
      "[CV] C=5.693856550432022, gamma=1.2059082622556384e-06 ...............\n",
      "[CV]  C=5.693856550432022, gamma=1.2059082622556384e-06, total=   1.3s\n",
      "[CV] C=5.693856550432022, gamma=1.2059082622556384e-06 ...............\n",
      "[CV]  C=5.693856550432022, gamma=1.2059082622556384e-06, total=   1.3s\n",
      "[CV] C=9.761645447506364, gamma=3.4194194327763565e-06 ...............\n",
      "[CV]  C=9.761645447506364, gamma=3.4194194327763565e-06, total=   1.3s\n",
      "[CV] C=9.761645447506364, gamma=3.4194194327763565e-06 ...............\n",
      "[CV]  C=9.761645447506364, gamma=3.4194194327763565e-06, total=   1.4s\n",
      "[CV] C=9.761645447506364, gamma=3.4194194327763565e-06 ...............\n",
      "[CV]  C=9.761645447506364, gamma=3.4194194327763565e-06, total=   1.3s\n",
      "[CV] C=9.761645447506364, gamma=3.4194194327763565e-06 ...............\n",
      "[CV]  C=9.761645447506364, gamma=3.4194194327763565e-06, total=   1.3s\n",
      "[CV] C=9.761645447506364, gamma=3.4194194327763565e-06 ...............\n",
      "[CV]  C=9.761645447506364, gamma=3.4194194327763565e-06, total=   1.3s\n",
      "[CV] C=10.346632184604356, gamma=8.188517737449726e-05 ...............\n",
      "[CV]  C=10.346632184604356, gamma=8.188517737449726e-05, total=   0.6s\n",
      "[CV] C=10.346632184604356, gamma=8.188517737449726e-05 ...............\n",
      "[CV]  C=10.346632184604356, gamma=8.188517737449726e-05, total=   0.6s\n",
      "[CV] C=10.346632184604356, gamma=8.188517737449726e-05 ...............\n",
      "[CV]  C=10.346632184604356, gamma=8.188517737449726e-05, total=   0.6s\n",
      "[CV] C=10.346632184604356, gamma=8.188517737449726e-05 ...............\n",
      "[CV]  C=10.346632184604356, gamma=8.188517737449726e-05, total=   0.6s\n",
      "[CV] C=10.346632184604356, gamma=8.188517737449726e-05 ...............\n",
      "[CV]  C=10.346632184604356, gamma=8.188517737449726e-05, total=   0.6s\n",
      "[CV] C=9.80125482141436, gamma=3.676555446131082e-07 .................\n",
      "[CV] .. C=9.80125482141436, gamma=3.676555446131082e-07, total=   1.3s\n",
      "[CV] C=9.80125482141436, gamma=3.676555446131082e-07 .................\n",
      "[CV] .. C=9.80125482141436, gamma=3.676555446131082e-07, total=   1.3s\n",
      "[CV] C=9.80125482141436, gamma=3.676555446131082e-07 .................\n",
      "[CV] .. C=9.80125482141436, gamma=3.676555446131082e-07, total=   1.3s\n",
      "[CV] C=9.80125482141436, gamma=3.676555446131082e-07 .................\n",
      "[CV] .. C=9.80125482141436, gamma=3.676555446131082e-07, total=   1.3s\n",
      "[CV] C=9.80125482141436, gamma=3.676555446131082e-07 .................\n",
      "[CV] .. C=9.80125482141436, gamma=3.676555446131082e-07, total=   1.3s\n",
      "[CV] C=8.191469478085871, gamma=5.095065445726758e-07 ................\n",
      "[CV] . C=8.191469478085871, gamma=5.095065445726758e-07, total=   1.3s\n",
      "[CV] C=8.191469478085871, gamma=5.095065445726758e-07 ................\n",
      "[CV] . C=8.191469478085871, gamma=5.095065445726758e-07, total=   1.3s\n",
      "[CV] C=8.191469478085871, gamma=5.095065445726758e-07 ................\n",
      "[CV] . C=8.191469478085871, gamma=5.095065445726758e-07, total=   1.3s\n",
      "[CV] C=8.191469478085871, gamma=5.095065445726758e-07 ................\n",
      "[CV] . C=8.191469478085871, gamma=5.095065445726758e-07, total=   1.3s\n",
      "[CV] C=8.191469478085871, gamma=5.095065445726758e-07 ................\n",
      "[CV] . C=8.191469478085871, gamma=5.095065445726758e-07, total=   1.3s\n",
      "[CV] C=5.989182581643213, gamma=1.3607066100416389e-05 ...............\n",
      "[CV]  C=5.989182581643213, gamma=1.3607066100416389e-05, total=   1.1s\n",
      "[CV] C=5.989182581643213, gamma=1.3607066100416389e-05 ...............\n",
      "[CV]  C=5.989182581643213, gamma=1.3607066100416389e-05, total=   1.1s\n",
      "[CV] C=5.989182581643213, gamma=1.3607066100416389e-05 ...............\n",
      "[CV]  C=5.989182581643213, gamma=1.3607066100416389e-05, total=   1.1s\n",
      "[CV] C=5.989182581643213, gamma=1.3607066100416389e-05 ...............\n",
      "[CV]  C=5.989182581643213, gamma=1.3607066100416389e-05, total=   1.1s\n",
      "[CV] C=5.989182581643213, gamma=1.3607066100416389e-05 ...............\n",
      "[CV]  C=5.989182581643213, gamma=1.3607066100416389e-05, total=   1.1s\n",
      "[CV] C=9.71964461677275, gamma=2.2949891776587305e-05 ................\n",
      "[CV] . C=9.71964461677275, gamma=2.2949891776587305e-05, total=   0.8s\n",
      "[CV] C=9.71964461677275, gamma=2.2949891776587305e-05 ................\n",
      "[CV] . C=9.71964461677275, gamma=2.2949891776587305e-05, total=   0.8s\n",
      "[CV] C=9.71964461677275, gamma=2.2949891776587305e-05 ................\n",
      "[CV] . C=9.71964461677275, gamma=2.2949891776587305e-05, total=   0.8s\n",
      "[CV] C=9.71964461677275, gamma=2.2949891776587305e-05 ................\n",
      "[CV] . C=9.71964461677275, gamma=2.2949891776587305e-05, total=   0.8s\n",
      "[CV] C=9.71964461677275, gamma=2.2949891776587305e-05 ................\n",
      "[CV] . C=9.71964461677275, gamma=2.2949891776587305e-05, total=   0.8s\n",
      "[CV] C=8.541709821222446, gamma=9.228982633925524e-06 ................\n",
      "[CV] . C=8.541709821222446, gamma=9.228982633925524e-06, total=   1.1s\n",
      "[CV] C=8.541709821222446, gamma=9.228982633925524e-06 ................\n",
      "[CV] . C=8.541709821222446, gamma=9.228982633925524e-06, total=   1.1s\n",
      "[CV] C=8.541709821222446, gamma=9.228982633925524e-06 ................\n",
      "[CV] . C=8.541709821222446, gamma=9.228982633925524e-06, total=   1.1s\n",
      "[CV] C=8.541709821222446, gamma=9.228982633925524e-06 ................\n",
      "[CV] . C=8.541709821222446, gamma=9.228982633925524e-06, total=   1.1s\n",
      "[CV] C=8.541709821222446, gamma=9.228982633925524e-06 ................\n",
      "[CV] . C=8.541709821222446, gamma=9.228982633925524e-06, total=   1.1s\n"
     ]
    },
    {
     "name": "stderr",
     "output_type": "stream",
     "text": [
      "[Parallel(n_jobs=1)]: Done  50 out of  50 | elapsed:  1.6min finished\n"
     ]
    },
    {
     "data": {
      "text/plain": [
       "RandomizedSearchCV(cv=5, error_score='raise',\n",
       "          estimator=SVC(C=1.0, cache_size=200, class_weight=None, coef0=0.0,\n",
       "  decision_function_shape='ovr', degree=3, gamma='auto', kernel='rbf',\n",
       "  max_iter=-1, probability=False, random_state=None, shrinking=True,\n",
       "  tol=0.001, verbose=False),\n",
       "          fit_params=None, iid=True, n_iter=10, n_jobs=1,\n",
       "          param_distributions={'C': <scipy.stats._distn_infrastructure.rv_frozen object at 0x000001F20DD739E8>, 'gamma': <scipy.stats._distn_infrastructure.rv_frozen object at 0x000001F20DD734E0>},\n",
       "          pre_dispatch='2*n_jobs', random_state=None, refit=True,\n",
       "          return_train_score='warn', scoring='accuracy', verbose=2)"
      ]
     },
     "execution_count": 75,
     "metadata": {},
     "output_type": "execute_result"
    }
   ],
   "source": [
    "# Now let's see if gamma can get better by taking values between 10^-7 and 10^-4\n",
    "\n",
    "param_distribs = {\n",
    "        'C': uniform(1, 10),\n",
    "        'gamma': reciprocal(0.0000001, 0.0001),\n",
    "    }\n",
    "\n",
    "svc = SVC()\n",
    "\n",
    "rdn_search = RandomizedSearchCV(svc,param_distribs, cv=5, n_iter=10,scoring='accuracy', verbose=2)\n",
    "\n",
    "rdn_search.fit(X[:1000], y[:1000])"
   ]
  },
  {
   "cell_type": "code",
   "execution_count": 76,
   "metadata": {},
   "outputs": [
    {
     "data": {
      "text/plain": [
       "SVC(C=10.346632184604356, cache_size=200, class_weight=None, coef0=0.0,\n",
       "  decision_function_shape='ovr', degree=3, gamma=8.188517737449726e-05,\n",
       "  kernel='rbf', max_iter=-1, probability=False, random_state=None,\n",
       "  shrinking=True, tol=0.001, verbose=False)"
      ]
     },
     "execution_count": 76,
     "metadata": {},
     "output_type": "execute_result"
    }
   ],
   "source": [
    "rdn_search.best_estimator_"
   ]
  },
  {
   "cell_type": "code",
   "execution_count": 77,
   "metadata": {},
   "outputs": [
    {
     "data": {
      "text/plain": [
       "0.869"
      ]
     },
     "execution_count": 77,
     "metadata": {},
     "output_type": "execute_result"
    }
   ],
   "source": [
    "rdn_search.best_score_"
   ]
  },
  {
   "cell_type": "markdown",
   "metadata": {},
   "source": [
    "At the end of the day, It seems that our first range was the best for gamma too : from 10^-4 til 10^-1"
   ]
  },
  {
   "cell_type": "code",
   "execution_count": 79,
   "metadata": {
    "scrolled": true
   },
   "outputs": [
    {
     "name": "stdout",
     "output_type": "stream",
     "text": [
      "Fitting 5 folds for each of 10 candidates, totalling 50 fits\n",
      "[CV] C=2.707266135281196, gamma=0.0010976968998431874 ................\n",
      "[CV] . C=2.707266135281196, gamma=0.0010976968998431874, total=   0.8s\n",
      "[CV] C=2.707266135281196, gamma=0.0010976968998431874 ................\n"
     ]
    },
    {
     "name": "stderr",
     "output_type": "stream",
     "text": [
      "[Parallel(n_jobs=1)]: Done   1 out of   1 | elapsed:    1.3s remaining:    0.0s\n"
     ]
    },
    {
     "name": "stdout",
     "output_type": "stream",
     "text": [
      "[CV] . C=2.707266135281196, gamma=0.0010976968998431874, total=   0.7s\n",
      "[CV] C=2.707266135281196, gamma=0.0010976968998431874 ................\n",
      "[CV] . C=2.707266135281196, gamma=0.0010976968998431874, total=   0.8s\n",
      "[CV] C=2.707266135281196, gamma=0.0010976968998431874 ................\n",
      "[CV] . C=2.707266135281196, gamma=0.0010976968998431874, total=   0.8s\n",
      "[CV] C=2.707266135281196, gamma=0.0010976968998431874 ................\n",
      "[CV] . C=2.707266135281196, gamma=0.0010976968998431874, total=   0.8s\n",
      "[CV] C=10.619431294936485, gamma=0.00015666810650067443 ..............\n",
      "[CV]  C=10.619431294936485, gamma=0.00015666810650067443, total=   0.5s\n",
      "[CV] C=10.619431294936485, gamma=0.00015666810650067443 ..............\n",
      "[CV]  C=10.619431294936485, gamma=0.00015666810650067443, total=   0.5s\n",
      "[CV] C=10.619431294936485, gamma=0.00015666810650067443 ..............\n",
      "[CV]  C=10.619431294936485, gamma=0.00015666810650067443, total=   0.5s\n",
      "[CV] C=10.619431294936485, gamma=0.00015666810650067443 ..............\n",
      "[CV]  C=10.619431294936485, gamma=0.00015666810650067443, total=   0.5s\n",
      "[CV] C=10.619431294936485, gamma=0.00015666810650067443 ..............\n",
      "[CV]  C=10.619431294936485, gamma=0.00015666810650067443, total=   0.5s\n",
      "[CV] C=15.876890011552087, gamma=0.010127663709121293 ................\n",
      "[CV] . C=15.876890011552087, gamma=0.010127663709121293, total=   1.3s\n",
      "[CV] C=15.876890011552087, gamma=0.010127663709121293 ................\n",
      "[CV] . C=15.876890011552087, gamma=0.010127663709121293, total=   1.4s\n",
      "[CV] C=15.876890011552087, gamma=0.010127663709121293 ................\n",
      "[CV] . C=15.876890011552087, gamma=0.010127663709121293, total=   1.3s\n",
      "[CV] C=15.876890011552087, gamma=0.010127663709121293 ................\n",
      "[CV] . C=15.876890011552087, gamma=0.010127663709121293, total=   1.3s\n",
      "[CV] C=15.876890011552087, gamma=0.010127663709121293 ................\n",
      "[CV] . C=15.876890011552087, gamma=0.010127663709121293, total=   1.3s\n",
      "[CV] C=9.04818754306715, gamma=0.005495808221582243 ..................\n",
      "[CV] ... C=9.04818754306715, gamma=0.005495808221582243, total=   1.2s\n",
      "[CV] C=9.04818754306715, gamma=0.005495808221582243 ..................\n",
      "[CV] ... C=9.04818754306715, gamma=0.005495808221582243, total=   1.2s\n",
      "[CV] C=9.04818754306715, gamma=0.005495808221582243 ..................\n",
      "[CV] ... C=9.04818754306715, gamma=0.005495808221582243, total=   1.3s\n",
      "[CV] C=9.04818754306715, gamma=0.005495808221582243 ..................\n",
      "[CV] ... C=9.04818754306715, gamma=0.005495808221582243, total=   1.3s\n",
      "[CV] C=9.04818754306715, gamma=0.005495808221582243 ..................\n",
      "[CV] ... C=9.04818754306715, gamma=0.005495808221582243, total=   1.3s\n",
      "[CV] C=1.5586909828249897, gamma=0.00018002845669557436 ..............\n",
      "[CV]  C=1.5586909828249897, gamma=0.00018002845669557436, total=   0.8s\n",
      "[CV] C=1.5586909828249897, gamma=0.00018002845669557436 ..............\n",
      "[CV]  C=1.5586909828249897, gamma=0.00018002845669557436, total=   0.8s\n",
      "[CV] C=1.5586909828249897, gamma=0.00018002845669557436 ..............\n",
      "[CV]  C=1.5586909828249897, gamma=0.00018002845669557436, total=   0.8s\n",
      "[CV] C=1.5586909828249897, gamma=0.00018002845669557436 ..............\n",
      "[CV]  C=1.5586909828249897, gamma=0.00018002845669557436, total=   0.8s\n",
      "[CV] C=1.5586909828249897, gamma=0.00018002845669557436 ..............\n",
      "[CV]  C=1.5586909828249897, gamma=0.00018002845669557436, total=   0.8s\n",
      "[CV] C=7.035220525829519, gamma=0.0007202411215098958 ................\n",
      "[CV] . C=7.035220525829519, gamma=0.0007202411215098958, total=   0.6s\n",
      "[CV] C=7.035220525829519, gamma=0.0007202411215098958 ................\n",
      "[CV] . C=7.035220525829519, gamma=0.0007202411215098958, total=   0.6s\n",
      "[CV] C=7.035220525829519, gamma=0.0007202411215098958 ................\n",
      "[CV] . C=7.035220525829519, gamma=0.0007202411215098958, total=   0.7s\n",
      "[CV] C=7.035220525829519, gamma=0.0007202411215098958 ................\n",
      "[CV] . C=7.035220525829519, gamma=0.0007202411215098958, total=   0.7s\n",
      "[CV] C=7.035220525829519, gamma=0.0007202411215098958 ................\n",
      "[CV] . C=7.035220525829519, gamma=0.0007202411215098958, total=   0.6s\n",
      "[CV] C=5.346196539517035, gamma=0.05403794749141177 ..................\n",
      "[CV] ... C=5.346196539517035, gamma=0.05403794749141177, total=   1.4s\n",
      "[CV] C=5.346196539517035, gamma=0.05403794749141177 ..................\n",
      "[CV] ... C=5.346196539517035, gamma=0.05403794749141177, total=   1.4s\n",
      "[CV] C=5.346196539517035, gamma=0.05403794749141177 ..................\n",
      "[CV] ... C=5.346196539517035, gamma=0.05403794749141177, total=   1.4s\n",
      "[CV] C=5.346196539517035, gamma=0.05403794749141177 ..................\n",
      "[CV] ... C=5.346196539517035, gamma=0.05403794749141177, total=   1.4s\n",
      "[CV] C=5.346196539517035, gamma=0.05403794749141177 ..................\n",
      "[CV] ... C=5.346196539517035, gamma=0.05403794749141177, total=   1.4s\n",
      "[CV] C=10.72811987451755, gamma=0.010401639634839383 .................\n",
      "[CV] .. C=10.72811987451755, gamma=0.010401639634839383, total=   1.4s\n",
      "[CV] C=10.72811987451755, gamma=0.010401639634839383 .................\n",
      "[CV] .. C=10.72811987451755, gamma=0.010401639634839383, total=   1.4s\n",
      "[CV] C=10.72811987451755, gamma=0.010401639634839383 .................\n",
      "[CV] .. C=10.72811987451755, gamma=0.010401639634839383, total=   1.6s\n",
      "[CV] C=10.72811987451755, gamma=0.010401639634839383 .................\n",
      "[CV] .. C=10.72811987451755, gamma=0.010401639634839383, total=   1.4s\n",
      "[CV] C=10.72811987451755, gamma=0.010401639634839383 .................\n",
      "[CV] .. C=10.72811987451755, gamma=0.010401639634839383, total=   1.3s\n",
      "[CV] C=5.74426304537538, gamma=0.00021371010531576098 ................\n",
      "[CV] . C=5.74426304537538, gamma=0.00021371010531576098, total=   0.5s\n",
      "[CV] C=5.74426304537538, gamma=0.00021371010531576098 ................\n",
      "[CV] . C=5.74426304537538, gamma=0.00021371010531576098, total=   0.5s\n",
      "[CV] C=5.74426304537538, gamma=0.00021371010531576098 ................\n",
      "[CV] . C=5.74426304537538, gamma=0.00021371010531576098, total=   0.5s\n",
      "[CV] C=5.74426304537538, gamma=0.00021371010531576098 ................\n",
      "[CV] . C=5.74426304537538, gamma=0.00021371010531576098, total=   0.5s\n",
      "[CV] C=5.74426304537538, gamma=0.00021371010531576098 ................\n",
      "[CV] . C=5.74426304537538, gamma=0.00021371010531576098, total=   0.6s\n",
      "[CV] C=12.216418220776754, gamma=0.039128406772449956 ................\n",
      "[CV] . C=12.216418220776754, gamma=0.039128406772449956, total=   1.3s\n",
      "[CV] C=12.216418220776754, gamma=0.039128406772449956 ................\n",
      "[CV] . C=12.216418220776754, gamma=0.039128406772449956, total=   1.4s\n",
      "[CV] C=12.216418220776754, gamma=0.039128406772449956 ................\n",
      "[CV] . C=12.216418220776754, gamma=0.039128406772449956, total=   1.4s\n",
      "[CV] C=12.216418220776754, gamma=0.039128406772449956 ................\n",
      "[CV] . C=12.216418220776754, gamma=0.039128406772449956, total=   1.4s\n",
      "[CV] C=12.216418220776754, gamma=0.039128406772449956 ................\n",
      "[CV] . C=12.216418220776754, gamma=0.039128406772449956, total=   1.4s\n"
     ]
    },
    {
     "name": "stderr",
     "output_type": "stream",
     "text": [
      "[Parallel(n_jobs=1)]: Done  50 out of  50 | elapsed:  1.4min finished\n"
     ]
    },
    {
     "data": {
      "text/plain": [
       "RandomizedSearchCV(cv=5, error_score='raise',\n",
       "          estimator=SVC(C=1.0, cache_size=200, class_weight=None, coef0=0.0,\n",
       "  decision_function_shape='ovr', degree=3, gamma='auto', kernel='rbf',\n",
       "  max_iter=-1, probability=False, random_state=None, shrinking=True,\n",
       "  tol=0.001, verbose=False),\n",
       "          fit_params=None, iid=True, n_iter=10, n_jobs=1,\n",
       "          param_distributions={'C': <scipy.stats._distn_infrastructure.rv_frozen object at 0x000001F210666C88>, 'gamma': <scipy.stats._distn_infrastructure.rv_frozen object at 0x000001F210666E48>},\n",
       "          pre_dispatch='2*n_jobs', random_state=None, refit=True,\n",
       "          return_train_score='warn', scoring='accuracy', verbose=2)"
      ]
     },
     "execution_count": 79,
     "metadata": {},
     "output_type": "execute_result"
    }
   ],
   "source": [
    "param_distribs = {\n",
    "        'C': uniform(1, 15),\n",
    "        'gamma': reciprocal(0.0001, 0.1),\n",
    "    }\n",
    "\n",
    "\n",
    "svc = SVC()\n",
    "\n",
    "rdn_search = RandomizedSearchCV(svc,param_distribs, cv=5, n_iter=10,scoring='accuracy', verbose=2)\n",
    "\n",
    "rdn_search.fit(X[:1000], y[:1000])"
   ]
  },
  {
   "cell_type": "code",
   "execution_count": 80,
   "metadata": {},
   "outputs": [
    {
     "data": {
      "text/plain": [
       "SVC(C=10.619431294936485, cache_size=200, class_weight=None, coef0=0.0,\n",
       "  decision_function_shape='ovr', degree=3, gamma=0.00015666810650067443,\n",
       "  kernel='rbf', max_iter=-1, probability=False, random_state=None,\n",
       "  shrinking=True, tol=0.001, verbose=False)"
      ]
     },
     "execution_count": 80,
     "metadata": {},
     "output_type": "execute_result"
    }
   ],
   "source": [
    "rdn_search.best_estimator_"
   ]
  },
  {
   "cell_type": "code",
   "execution_count": 81,
   "metadata": {},
   "outputs": [
    {
     "data": {
      "text/plain": [
       "0.881"
      ]
     },
     "execution_count": 81,
     "metadata": {},
     "output_type": "execute_result"
    }
   ],
   "source": [
    "rdn_search.best_score_"
   ]
  },
  {
   "cell_type": "code",
   "execution_count": 83,
   "metadata": {},
   "outputs": [
    {
     "data": {
      "text/plain": [
       "0.9695485714285714"
      ]
     },
     "execution_count": 83,
     "metadata": {},
     "output_type": "execute_result"
    }
   ],
   "source": [
    "from sklearn.metrics import accuracy_score\n",
    "\n",
    "rdn_search.best_estimator_.fit(X,y)\n",
    "\n",
    "y_predict = rdn_search.predict(X)\n",
    "\n",
    "# We show the training score\n",
    "accuracy_score(y_predict, y)"
   ]
  },
  {
   "cell_type": "markdown",
   "metadata": {},
   "source": [
    "To take our best chances, we will run random search between 5 and 20 for C And between 10^-5 and 10^-2 for gamma, with 35000 digits now."
   ]
  },
  {
   "cell_type": "code",
   "execution_count": 28,
   "metadata": {},
   "outputs": [],
   "source": [
    "from sklearn.model_selection import RandomizedSearchCV\n",
    "from scipy.stats import reciprocal, uniform\n",
    "from sklearn.preprocessing import PolynomialFeatures\n",
    "from sklearn.svm import SVC\n",
    "\n",
    "pipeline_pre = Pipeline([\n",
    "    #('poly_features', PolynomialFeatures(degree=3)),\n",
    "    ('scaler',StandardScaler()),\n",
    "    ('shift', Add_shifted_train(1)),\n",
    "    \n",
    "])\n",
    "\n",
    "X = pipeline_pre.fit_transform(X_train)"
   ]
  },
  {
   "cell_type": "code",
   "execution_count": 30,
   "metadata": {},
   "outputs": [
    {
     "name": "stdout",
     "output_type": "stream",
     "text": [
      "Fitting 3 folds for each of 5 candidates, totalling 15 fits\n"
     ]
    },
    {
     "name": "stderr",
     "output_type": "stream",
     "text": [
      "[Parallel(n_jobs=-1)]: Done  15 out of  15 | elapsed: 95.6min finished\n"
     ]
    },
    {
     "data": {
      "text/plain": [
       "RandomizedSearchCV(cv=3, error_score='raise',\n",
       "          estimator=SVC(C=1.0, cache_size=200, class_weight=None, coef0=0.0,\n",
       "  decision_function_shape='ovr', degree=3, gamma='auto', kernel='rbf',\n",
       "  max_iter=-1, probability=False, random_state=None, shrinking=True,\n",
       "  tol=0.001, verbose=False),\n",
       "          fit_params=None, iid=True, n_iter=5, n_jobs=-1,\n",
       "          param_distributions={'C': <scipy.stats._distn_infrastructure.rv_frozen object at 0x000001828AE1C630>, 'gamma': <scipy.stats._distn_infrastructure.rv_frozen object at 0x000001828AD26B00>},\n",
       "          pre_dispatch='2*n_jobs', random_state=None, refit=True,\n",
       "          return_train_score='warn', scoring='accuracy', verbose=2)"
      ]
     },
     "execution_count": 30,
     "metadata": {},
     "output_type": "execute_result"
    }
   ],
   "source": [
    "param_distribs = {\n",
    "        'C': uniform(5, 20),\n",
    "        'gamma': reciprocal(0.0001, 0.01),\n",
    "    }\n",
    "\n",
    "\n",
    "svc = SVC()\n",
    "\n",
    "rdn_search = RandomizedSearchCV(svc,param_distribs, cv=3, n_iter=5,scoring='accuracy',n_jobs=-1, verbose=2)\n",
    "\n",
    "rdn_search.fit(X[:35000], y[:35000])"
   ]
  },
  {
   "cell_type": "code",
   "execution_count": 31,
   "metadata": {},
   "outputs": [
    {
     "data": {
      "text/plain": [
       "SVC(C=17.868400861482613, cache_size=200, class_weight=None, coef0=0.0,\n",
       "  decision_function_shape='ovr', degree=3, gamma=0.0006958281546553136,\n",
       "  kernel='rbf', max_iter=-1, probability=False, random_state=None,\n",
       "  shrinking=True, tol=0.001, verbose=False)"
      ]
     },
     "execution_count": 31,
     "metadata": {},
     "output_type": "execute_result"
    }
   ],
   "source": [
    "rdn_search.best_estimator_"
   ]
  },
  {
   "cell_type": "code",
   "execution_count": 32,
   "metadata": {},
   "outputs": [
    {
     "data": {
      "text/plain": [
       "0.9620857142857143"
      ]
     },
     "execution_count": 32,
     "metadata": {},
     "output_type": "execute_result"
    }
   ],
   "source": [
    "rdn_search.best_score_"
   ]
  },
  {
   "cell_type": "code",
   "execution_count": 33,
   "metadata": {},
   "outputs": [
    {
     "data": {
      "text/html": [
       "<div>\n",
       "<style scoped>\n",
       "    .dataframe tbody tr th:only-of-type {\n",
       "        vertical-align: middle;\n",
       "    }\n",
       "\n",
       "    .dataframe tbody tr th {\n",
       "        vertical-align: top;\n",
       "    }\n",
       "\n",
       "    .dataframe thead th {\n",
       "        text-align: right;\n",
       "    }\n",
       "</style>\n",
       "<table border=\"1\" class=\"dataframe\">\n",
       "  <thead>\n",
       "    <tr style=\"text-align: right;\">\n",
       "      <th></th>\n",
       "      <th>mean_fit_time</th>\n",
       "      <th>mean_score_time</th>\n",
       "      <th>mean_test_score</th>\n",
       "      <th>mean_train_score</th>\n",
       "      <th>param_C</th>\n",
       "      <th>param_gamma</th>\n",
       "      <th>params</th>\n",
       "      <th>rank_test_score</th>\n",
       "      <th>split0_test_score</th>\n",
       "      <th>split0_train_score</th>\n",
       "      <th>split1_test_score</th>\n",
       "      <th>split1_train_score</th>\n",
       "      <th>split2_test_score</th>\n",
       "      <th>split2_train_score</th>\n",
       "      <th>std_fit_time</th>\n",
       "      <th>std_score_time</th>\n",
       "      <th>std_test_score</th>\n",
       "      <th>std_train_score</th>\n",
       "    </tr>\n",
       "  </thead>\n",
       "  <tbody>\n",
       "    <tr>\n",
       "      <th>0</th>\n",
       "      <td>179.764037</td>\n",
       "      <td>154.006363</td>\n",
       "      <td>0.959314</td>\n",
       "      <td>0.993371</td>\n",
       "      <td>11.3935</td>\n",
       "      <td>0.000496412</td>\n",
       "      <td>{'C': 11.393482191407955, 'gamma': 0.000496412...</td>\n",
       "      <td>3</td>\n",
       "      <td>0.959726</td>\n",
       "      <td>0.993442</td>\n",
       "      <td>0.961255</td>\n",
       "      <td>0.993186</td>\n",
       "      <td>0.956962</td>\n",
       "      <td>0.993486</td>\n",
       "      <td>0.058803</td>\n",
       "      <td>1.229705</td>\n",
       "      <td>0.001777</td>\n",
       "      <td>0.000132</td>\n",
       "    </tr>\n",
       "    <tr>\n",
       "      <th>1</th>\n",
       "      <td>192.494127</td>\n",
       "      <td>155.612055</td>\n",
       "      <td>0.959686</td>\n",
       "      <td>0.994086</td>\n",
       "      <td>12.3411</td>\n",
       "      <td>0.00050479</td>\n",
       "      <td>{'C': 12.341109369234548, 'gamma': 0.000504790...</td>\n",
       "      <td>2</td>\n",
       "      <td>0.960411</td>\n",
       "      <td>0.994128</td>\n",
       "      <td>0.961684</td>\n",
       "      <td>0.993872</td>\n",
       "      <td>0.956962</td>\n",
       "      <td>0.994258</td>\n",
       "      <td>8.274400</td>\n",
       "      <td>1.841635</td>\n",
       "      <td>0.001995</td>\n",
       "      <td>0.000160</td>\n",
       "    </tr>\n",
       "    <tr>\n",
       "      <th>2</th>\n",
       "      <td>668.096397</td>\n",
       "      <td>152.338821</td>\n",
       "      <td>0.962086</td>\n",
       "      <td>0.998671</td>\n",
       "      <td>17.8684</td>\n",
       "      <td>0.000695828</td>\n",
       "      <td>{'C': 17.868400861482613, 'gamma': 0.000695828...</td>\n",
       "      <td>1</td>\n",
       "      <td>0.963410</td>\n",
       "      <td>0.998800</td>\n",
       "      <td>0.962798</td>\n",
       "      <td>0.998543</td>\n",
       "      <td>0.960048</td>\n",
       "      <td>0.998672</td>\n",
       "      <td>636.715131</td>\n",
       "      <td>16.222495</td>\n",
       "      <td>0.001462</td>\n",
       "      <td>0.000105</td>\n",
       "    </tr>\n",
       "    <tr>\n",
       "      <th>3</th>\n",
       "      <td>304.063311</td>\n",
       "      <td>1710.486468</td>\n",
       "      <td>0.957771</td>\n",
       "      <td>0.999957</td>\n",
       "      <td>13.5999</td>\n",
       "      <td>0.00215241</td>\n",
       "      <td>{'C': 13.599896210295052, 'gamma': 0.002152411...</td>\n",
       "      <td>4</td>\n",
       "      <td>0.956641</td>\n",
       "      <td>0.999957</td>\n",
       "      <td>0.958169</td>\n",
       "      <td>0.999914</td>\n",
       "      <td>0.958505</td>\n",
       "      <td>1.000000</td>\n",
       "      <td>3.956557</td>\n",
       "      <td>2.293115</td>\n",
       "      <td>0.000811</td>\n",
       "      <td>0.000035</td>\n",
       "    </tr>\n",
       "    <tr>\n",
       "      <th>4</th>\n",
       "      <td>312.767559</td>\n",
       "      <td>135.965917</td>\n",
       "      <td>0.949771</td>\n",
       "      <td>1.000000</td>\n",
       "      <td>10.7468</td>\n",
       "      <td>0.00314316</td>\n",
       "      <td>{'C': 10.74684726256572, 'gamma': 0.0031431642...</td>\n",
       "      <td>5</td>\n",
       "      <td>0.947472</td>\n",
       "      <td>1.000000</td>\n",
       "      <td>0.950197</td>\n",
       "      <td>1.000000</td>\n",
       "      <td>0.951646</td>\n",
       "      <td>1.000000</td>\n",
       "      <td>12.668314</td>\n",
       "      <td>1.132539</td>\n",
       "      <td>0.001730</td>\n",
       "      <td>0.000000</td>\n",
       "    </tr>\n",
       "  </tbody>\n",
       "</table>\n",
       "</div>"
      ],
      "text/plain": [
       "   mean_fit_time  mean_score_time  mean_test_score  mean_train_score  param_C  \\\n",
       "0     179.764037       154.006363         0.959314          0.993371  11.3935   \n",
       "1     192.494127       155.612055         0.959686          0.994086  12.3411   \n",
       "2     668.096397       152.338821         0.962086          0.998671  17.8684   \n",
       "3     304.063311      1710.486468         0.957771          0.999957  13.5999   \n",
       "4     312.767559       135.965917         0.949771          1.000000  10.7468   \n",
       "\n",
       "   param_gamma                                             params  \\\n",
       "0  0.000496412  {'C': 11.393482191407955, 'gamma': 0.000496412...   \n",
       "1   0.00050479  {'C': 12.341109369234548, 'gamma': 0.000504790...   \n",
       "2  0.000695828  {'C': 17.868400861482613, 'gamma': 0.000695828...   \n",
       "3   0.00215241  {'C': 13.599896210295052, 'gamma': 0.002152411...   \n",
       "4   0.00314316  {'C': 10.74684726256572, 'gamma': 0.0031431642...   \n",
       "\n",
       "   rank_test_score  split0_test_score  split0_train_score  split1_test_score  \\\n",
       "0                3           0.959726            0.993442           0.961255   \n",
       "1                2           0.960411            0.994128           0.961684   \n",
       "2                1           0.963410            0.998800           0.962798   \n",
       "3                4           0.956641            0.999957           0.958169   \n",
       "4                5           0.947472            1.000000           0.950197   \n",
       "\n",
       "   split1_train_score  split2_test_score  split2_train_score  std_fit_time  \\\n",
       "0            0.993186           0.956962            0.993486      0.058803   \n",
       "1            0.993872           0.956962            0.994258      8.274400   \n",
       "2            0.998543           0.960048            0.998672    636.715131   \n",
       "3            0.999914           0.958505            1.000000      3.956557   \n",
       "4            1.000000           0.951646            1.000000     12.668314   \n",
       "\n",
       "   std_score_time  std_test_score  std_train_score  \n",
       "0        1.229705        0.001777         0.000132  \n",
       "1        1.841635        0.001995         0.000160  \n",
       "2       16.222495        0.001462         0.000105  \n",
       "3        2.293115        0.000811         0.000035  \n",
       "4        1.132539        0.001730         0.000000  "
      ]
     },
     "execution_count": 33,
     "metadata": {},
     "output_type": "execute_result"
    }
   ],
   "source": [
    "DataFrame(rdn_search.cv_results_)"
   ]
  },
  {
   "cell_type": "code",
   "execution_count": 34,
   "metadata": {},
   "outputs": [
    {
     "data": {
      "text/plain": [
       "0.9983885714285714"
      ]
     },
     "execution_count": 34,
     "metadata": {},
     "output_type": "execute_result"
    }
   ],
   "source": [
    "from sklearn.metrics import accuracy_score\n",
    "\n",
    "rdn_search.best_estimator_.fit(X,y)\n",
    "\n",
    "y_predict = rdn_search.predict(X)\n",
    "\n",
    "# Training score\n",
    "accuracy_score(y_predict, y)"
   ]
  },
  {
   "cell_type": "code",
   "execution_count": 38,
   "metadata": {},
   "outputs": [
    {
     "data": {
      "text/plain": [
       "0.9792857142857143"
      ]
     },
     "execution_count": 38,
     "metadata": {},
     "output_type": "execute_result"
    }
   ],
   "source": [
    "# We try the best model on the test set, after scaling the data\n",
    "X_test = StandardScaler().fit_transform(X_test)\n",
    "\n",
    "y_svm_pred = rdn_search.predict(X_test)\n",
    "\n",
    "accuracy_score(y_test, y_svm_pred)"
   ]
  },
  {
   "cell_type": "markdown",
   "metadata": {},
   "source": [
    "We improve the accuracy by o.oo42, which is not small improvement at this level. We will save the thetas parameters in ou best model in order to re-load in the future the model.\n",
    "\n",
    "The best parameters are C = 17.8684 and gamma = 0.0006958"
   ]
  },
  {
   "cell_type": "markdown",
   "metadata": {},
   "source": [
    "## E. Will RE-run the prediction for the test set from Kaggle competition, using SVM instead of KNN"
   ]
  },
  {
   "cell_type": "code",
   "execution_count": 53,
   "metadata": {},
   "outputs": [],
   "source": [
    "# Retreive data from csv file\n",
    "test = pd.read_csv('test.csv',sep=',')\n",
    "\n",
    "# We have to scale the test set from 0 to 1\n",
    "test = StandardScaler().fit_transform(test)\n",
    "\n",
    "kaggle_pred_svm = rdn_search.predict(test)\n",
    "\n",
    "results = pd.DataFrame({\n",
    "    'ImageID': pd.Series(range(1,28001)),\n",
    "    'Label' : kaggle_pred_svm,\n",
    "})\n",
    "\n",
    "results.to_csv(\"test_svm.csv\", index=False)"
   ]
  },
  {
   "cell_type": "markdown",
   "metadata": {},
   "source": [
    "We obtain 0.9765 accuracy with the new model, just slighlty more than with KNN."
   ]
  }
 ],
 "metadata": {
  "kernelspec": {
   "display_name": "Python 3",
   "language": "python",
   "name": "python3"
  },
  "language_info": {
   "codemirror_mode": {
    "name": "ipython",
    "version": 3
   },
   "file_extension": ".py",
   "mimetype": "text/x-python",
   "name": "python",
   "nbconvert_exporter": "python",
   "pygments_lexer": "ipython3",
   "version": "3.6.4"
  }
 },
 "nbformat": 4,
 "nbformat_minor": 2
}
